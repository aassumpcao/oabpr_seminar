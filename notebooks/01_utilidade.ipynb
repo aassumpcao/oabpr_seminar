{
 "cells": [
  {
   "cell_type": "markdown",
   "metadata": {},
   "source": [
    "# Parte 1: Utilitidade"
   ]
  },
  {
   "cell_type": "markdown",
   "metadata": {},
   "source": [
    "## Importar os pacotes necessários"
   ]
  },
  {
   "cell_type": "code",
   "execution_count": 5,
   "metadata": {},
   "outputs": [],
   "source": [
    "# importar os pacotes necessários para fazer análise\n",
    "import pandas as pd, numpy as np\n",
    "import os, re\n",
    "import requests\n",
    "import zipfile"
   ]
  },
  {
   "cell_type": "markdown",
   "metadata": {},
   "source": [
    "## Definir funções para processar os dados"
   ]
  },
  {
   "cell_type": "code",
   "execution_count": 6,
   "metadata": {},
   "outputs": [],
   "source": [
    "# definir função que baixa os dados\n",
    "def baixar_tse():\n",
    "    URL = 'http://agencia.tse.jus.br/estatistica/sead/odsele/motivo_cassacao/motivo_cassacao_2016.zip'\n",
    "    r = requests.get(URL)\n",
    "    with open('../dados/motivo_cassacao2016.zip', 'wb') as arquivo:\n",
    "        arquivo.write(r.content)\n",
    "    return 'Motivo(s) para Indeferimento 2016 baixado(s) com sucesso.'\n",
    "\n",
    "# definir função de descomprime arquivo do tse\n",
    "def unzip_tse():\n",
    "    with zipfile.ZipFile('../dados/motivo_cassacao2016.zip', 'r') as zip:\n",
    "        zip.extractall('../dados')\n",
    "    return 'Arquivo(s) descomprimido(s) com sucesso.'\n",
    "\n",
    "# definir função para juntar os dados do tse\n",
    "def juntar_tse():\n",
    "\n",
    "    regex = re.compile(r'motivo.*csv$')\n",
    "    juntar_tse.kwargs = {\n",
    "        'engine': 'python', 'encoding': 'latin1', 'sep':';', 'quoting': 1,\n",
    "        'dtype': str\n",
    "    }\n",
    "\n",
    "    arquivos = os.listdir('../dados')\n",
    "    arquivos = list(filter(regex.search, arquivos))\n",
    "    arquivos = [\n",
    "        os.path.join(os.path.realpath('../dados'), arquivo) \\\n",
    "        for arquivo in arquivos\n",
    "    ]\n",
    "\n",
    "    dados = pd.concat(\n",
    "        [pd.read_csv(arquivo, **juntar_tse.kwargs) for arquivo in arquivos],\n",
    "        ignore_index=True\n",
    "    )\n",
    "\n",
    "    dados = dados[dados['DS_MOTIVO_CASSACAO'].notna()]\n",
    "    # dados.drop(dados.columns[-1], axis=1, inplace=True)\n",
    "\n",
    "    print('Arquivo(s) juntado(s) com sucesso.')\n",
    "    return dados"
   ]
  },
  {
   "cell_type": "markdown",
   "metadata": {},
   "source": [
    "## Executar funções"
   ]
  },
  {
   "cell_type": "code",
   "execution_count": 7,
   "metadata": {},
   "outputs": [
    {
     "data": {
      "text/plain": [
       "'Motivo(s) para Indeferimento 2016 baixado(s) com sucesso.'"
      ]
     },
     "execution_count": 7,
     "metadata": {},
     "output_type": "execute_result"
    }
   ],
   "source": [
    "# executar função\n",
    "baixar_tse()"
   ]
  },
  {
   "cell_type": "code",
   "execution_count": 8,
   "metadata": {},
   "outputs": [
    {
     "data": {
      "text/plain": [
       "'Arquivo(s) descomprimido(s) com sucesso.'"
      ]
     },
     "execution_count": 8,
     "metadata": {},
     "output_type": "execute_result"
    }
   ],
   "source": [
    "# executar função\n",
    "unzip_tse()"
   ]
  },
  {
   "cell_type": "code",
   "execution_count": 16,
   "metadata": {},
   "outputs": [
    {
     "name": "stdout",
     "output_type": "stream",
     "text": [
      "Arquivo(s) juntado(s) com sucesso.\n"
     ]
    }
   ],
   "source": [
    "# executar função\n",
    "candidaturas = juntar_tse()"
   ]
  },
  {
   "cell_type": "markdown",
   "metadata": {},
   "source": [
    "## Exibir dados preliminares"
   ]
  },
  {
   "cell_type": "code",
   "execution_count": 17,
   "metadata": {},
   "outputs": [
    {
     "data": {
      "text/html": [
       "<div>\n",
       "<style scoped>\n",
       "    .dataframe tbody tr th:only-of-type {\n",
       "        vertical-align: middle;\n",
       "    }\n",
       "\n",
       "    .dataframe tbody tr th {\n",
       "        vertical-align: top;\n",
       "    }\n",
       "\n",
       "    .dataframe thead th {\n",
       "        text-align: right;\n",
       "    }\n",
       "</style>\n",
       "<table border=\"1\" class=\"dataframe\">\n",
       "  <thead>\n",
       "    <tr style=\"text-align: right;\">\n",
       "      <th></th>\n",
       "      <th>DT_GERACAO</th>\n",
       "      <th>HH_GERACAO</th>\n",
       "      <th>ANO_ELEICAO</th>\n",
       "      <th>CD_TIPO_ELEICAO</th>\n",
       "      <th>NM_TIPO_ELEICAO</th>\n",
       "      <th>CD_ELEICAO</th>\n",
       "      <th>DS_ELEICAO</th>\n",
       "      <th>SG_UF</th>\n",
       "      <th>SG_UE</th>\n",
       "      <th>NM_UE</th>\n",
       "      <th>SQ_CANDIDATO</th>\n",
       "      <th>DS_MOTIVO_CASSACAO</th>\n",
       "    </tr>\n",
       "  </thead>\n",
       "  <tbody>\n",
       "    <tr>\n",
       "      <th>412</th>\n",
       "      <td>23/01/2020</td>\n",
       "      <td>08:45:56</td>\n",
       "      <td>2016</td>\n",
       "      <td>2</td>\n",
       "      <td>Eleição Ordinária</td>\n",
       "      <td>220</td>\n",
       "      <td>Eleições Municipais 2016</td>\n",
       "      <td>AL</td>\n",
       "      <td>28134</td>\n",
       "      <td>OLHO D'ÁGUA DAS FLORES</td>\n",
       "      <td>20000001534</td>\n",
       "      <td>Ausência de requisito de registro</td>\n",
       "    </tr>\n",
       "    <tr>\n",
       "      <th>2390</th>\n",
       "      <td>23/01/2020</td>\n",
       "      <td>08:45:56</td>\n",
       "      <td>2016</td>\n",
       "      <td>2</td>\n",
       "      <td>Eleição Ordinária</td>\n",
       "      <td>220</td>\n",
       "      <td>Eleições Municipais 2016</td>\n",
       "      <td>BA</td>\n",
       "      <td>35130</td>\n",
       "      <td>EUCLIDES DA CUNHA</td>\n",
       "      <td>50000010638</td>\n",
       "      <td>Ausência de requisito de registro</td>\n",
       "    </tr>\n",
       "    <tr>\n",
       "      <th>13046</th>\n",
       "      <td>23/01/2020</td>\n",
       "      <td>08:45:56</td>\n",
       "      <td>2016</td>\n",
       "      <td>2</td>\n",
       "      <td>Eleição Ordinária</td>\n",
       "      <td>220</td>\n",
       "      <td>Eleições Municipais 2016</td>\n",
       "      <td>SP</td>\n",
       "      <td>70270</td>\n",
       "      <td>SANTA CRUZ DAS PALMEIRAS</td>\n",
       "      <td>250000072958</td>\n",
       "      <td>Ausência de requisito de registro</td>\n",
       "    </tr>\n",
       "    <tr>\n",
       "      <th>9870</th>\n",
       "      <td>23/01/2020</td>\n",
       "      <td>08:45:56</td>\n",
       "      <td>2016</td>\n",
       "      <td>2</td>\n",
       "      <td>Eleição Ordinária</td>\n",
       "      <td>220</td>\n",
       "      <td>Eleições Municipais 2016</td>\n",
       "      <td>PA</td>\n",
       "      <td>04251</td>\n",
       "      <td>BARCARENA</td>\n",
       "      <td>140000020970</td>\n",
       "      <td>Ausência de requisito de registro</td>\n",
       "    </tr>\n",
       "    <tr>\n",
       "      <th>17571</th>\n",
       "      <td>23/01/2020</td>\n",
       "      <td>08:45:56</td>\n",
       "      <td>2016</td>\n",
       "      <td>2</td>\n",
       "      <td>Eleição Ordinária</td>\n",
       "      <td>220</td>\n",
       "      <td>Eleições Municipais 2016</td>\n",
       "      <td>MG</td>\n",
       "      <td>54194</td>\n",
       "      <td>VAZANTE</td>\n",
       "      <td>130000078672</td>\n",
       "      <td>Ausência de requisito de registro</td>\n",
       "    </tr>\n",
       "    <tr>\n",
       "      <th>9977</th>\n",
       "      <td>23/01/2020</td>\n",
       "      <td>08:45:56</td>\n",
       "      <td>2016</td>\n",
       "      <td>2</td>\n",
       "      <td>Eleição Ordinária</td>\n",
       "      <td>220</td>\n",
       "      <td>Eleições Municipais 2016</td>\n",
       "      <td>RS</td>\n",
       "      <td>87734</td>\n",
       "      <td>OSÓRIO</td>\n",
       "      <td>210000009300</td>\n",
       "      <td>Ficha limpa (LC 64/90)</td>\n",
       "    </tr>\n",
       "    <tr>\n",
       "      <th>5508</th>\n",
       "      <td>23/01/2020</td>\n",
       "      <td>08:45:56</td>\n",
       "      <td>2016</td>\n",
       "      <td>2</td>\n",
       "      <td>Eleição Ordinária</td>\n",
       "      <td>220</td>\n",
       "      <td>Eleições Municipais 2016</td>\n",
       "      <td>PR</td>\n",
       "      <td>76295</td>\n",
       "      <td>JACAREZINHO</td>\n",
       "      <td>160000015311</td>\n",
       "      <td>Ausência de requisito de registro</td>\n",
       "    </tr>\n",
       "    <tr>\n",
       "      <th>13077</th>\n",
       "      <td>23/01/2020</td>\n",
       "      <td>08:45:56</td>\n",
       "      <td>2016</td>\n",
       "      <td>2</td>\n",
       "      <td>Eleição Ordinária</td>\n",
       "      <td>220</td>\n",
       "      <td>Eleições Municipais 2016</td>\n",
       "      <td>SP</td>\n",
       "      <td>64750</td>\n",
       "      <td>GUARUJÁ</td>\n",
       "      <td>250000069128</td>\n",
       "      <td>Ausência de requisito de registro</td>\n",
       "    </tr>\n",
       "    <tr>\n",
       "      <th>18073</th>\n",
       "      <td>23/01/2020</td>\n",
       "      <td>08:45:56</td>\n",
       "      <td>2016</td>\n",
       "      <td>2</td>\n",
       "      <td>Eleição Ordinária</td>\n",
       "      <td>220</td>\n",
       "      <td>Eleições Municipais 2016</td>\n",
       "      <td>MT</td>\n",
       "      <td>90204</td>\n",
       "      <td>GLÓRIA D'OESTE</td>\n",
       "      <td>110000001495</td>\n",
       "      <td>Ausência de requisito de registro</td>\n",
       "    </tr>\n",
       "    <tr>\n",
       "      <th>15602</th>\n",
       "      <td>23/01/2020</td>\n",
       "      <td>08:45:56</td>\n",
       "      <td>2016</td>\n",
       "      <td>2</td>\n",
       "      <td>Eleição Ordinária</td>\n",
       "      <td>220</td>\n",
       "      <td>Eleições Municipais 2016</td>\n",
       "      <td>MG</td>\n",
       "      <td>41238</td>\n",
       "      <td>BELO HORIZONTE</td>\n",
       "      <td>130000084207</td>\n",
       "      <td>Ausência de requisito de registro</td>\n",
       "    </tr>\n",
       "  </tbody>\n",
       "</table>\n",
       "</div>"
      ],
      "text/plain": [
       "       DT_GERACAO HH_GERACAO ANO_ELEICAO CD_TIPO_ELEICAO    NM_TIPO_ELEICAO  \\\n",
       "412    23/01/2020   08:45:56        2016               2  Eleição Ordinária   \n",
       "2390   23/01/2020   08:45:56        2016               2  Eleição Ordinária   \n",
       "13046  23/01/2020   08:45:56        2016               2  Eleição Ordinária   \n",
       "9870   23/01/2020   08:45:56        2016               2  Eleição Ordinária   \n",
       "17571  23/01/2020   08:45:56        2016               2  Eleição Ordinária   \n",
       "9977   23/01/2020   08:45:56        2016               2  Eleição Ordinária   \n",
       "5508   23/01/2020   08:45:56        2016               2  Eleição Ordinária   \n",
       "13077  23/01/2020   08:45:56        2016               2  Eleição Ordinária   \n",
       "18073  23/01/2020   08:45:56        2016               2  Eleição Ordinária   \n",
       "15602  23/01/2020   08:45:56        2016               2  Eleição Ordinária   \n",
       "\n",
       "      CD_ELEICAO                DS_ELEICAO SG_UF  SG_UE  \\\n",
       "412          220  Eleições Municipais 2016    AL  28134   \n",
       "2390         220  Eleições Municipais 2016    BA  35130   \n",
       "13046        220  Eleições Municipais 2016    SP  70270   \n",
       "9870         220  Eleições Municipais 2016    PA  04251   \n",
       "17571        220  Eleições Municipais 2016    MG  54194   \n",
       "9977         220  Eleições Municipais 2016    RS  87734   \n",
       "5508         220  Eleições Municipais 2016    PR  76295   \n",
       "13077        220  Eleições Municipais 2016    SP  64750   \n",
       "18073        220  Eleições Municipais 2016    MT  90204   \n",
       "15602        220  Eleições Municipais 2016    MG  41238   \n",
       "\n",
       "                          NM_UE  SQ_CANDIDATO  \\\n",
       "412      OLHO D'ÁGUA DAS FLORES   20000001534   \n",
       "2390          EUCLIDES DA CUNHA   50000010638   \n",
       "13046  SANTA CRUZ DAS PALMEIRAS  250000072958   \n",
       "9870                  BARCARENA  140000020970   \n",
       "17571                   VAZANTE  130000078672   \n",
       "9977                     OSÓRIO  210000009300   \n",
       "5508                JACAREZINHO  160000015311   \n",
       "13077                   GUARUJÁ  250000069128   \n",
       "18073            GLÓRIA D'OESTE  110000001495   \n",
       "15602            BELO HORIZONTE  130000084207   \n",
       "\n",
       "                       DS_MOTIVO_CASSACAO  \n",
       "412    Ausência de requisito de registro   \n",
       "2390   Ausência de requisito de registro   \n",
       "13046  Ausência de requisito de registro   \n",
       "9870   Ausência de requisito de registro   \n",
       "17571  Ausência de requisito de registro   \n",
       "9977               Ficha limpa (LC 64/90)  \n",
       "5508   Ausência de requisito de registro   \n",
       "13077  Ausência de requisito de registro   \n",
       "18073  Ausência de requisito de registro   \n",
       "15602  Ausência de requisito de registro   "
      ]
     },
     "execution_count": 17,
     "metadata": {},
     "output_type": "execute_result"
    }
   ],
   "source": [
    "# mostrar os dados\n",
    "candidaturas.sample(10)"
   ]
  },
  {
   "cell_type": "code",
   "execution_count": 18,
   "metadata": {},
   "outputs": [
    {
     "data": {
      "text/plain": [
       "['Ausência de requisito de registro ',\n",
       " 'Indeferimento de partido ou coligação.',\n",
       " 'Compra de voto (Lei 9.504/97).',\n",
       " 'Ficha limpa (LC 64/90)',\n",
       " 'Abuso de poder (LC 64/90)',\n",
       " 'Gasto ilícito de recursos (Lei 9.504/97).',\n",
       " 'Impugnação',\n",
       " 'Conduta vedada (Lei 9.504/97).']"
      ]
     },
     "execution_count": 18,
     "metadata": {},
     "output_type": "execute_result"
    }
   ],
   "source": [
    "# verificar os motivos para cassação\n",
    "list(candidaturas['DS_MOTIVO_CASSACAO'].unique())"
   ]
  },
  {
   "cell_type": "markdown",
   "metadata": {},
   "source": [
    "## Focar no Paraná"
   ]
  },
  {
   "cell_type": "code",
   "execution_count": 21,
   "metadata": {},
   "outputs": [
    {
     "data": {
      "text/plain": [
       "Index(['DT_GERACAO', 'HH_GERACAO', 'ANO_ELEICAO', 'CD_TIPO_ELEICAO',\n",
       "       'NM_TIPO_ELEICAO', 'CD_ELEICAO', 'DS_ELEICAO', 'SG_UF', 'SG_UE',\n",
       "       'NM_UE', 'SQ_CANDIDATO', 'DS_MOTIVO_CASSACAO'],\n",
       "      dtype='object')"
      ]
     },
     "execution_count": 21,
     "metadata": {},
     "output_type": "execute_result"
    }
   ],
   "source": [
    "# focar em 10 candidatos no paraná\n",
    "candidaturas_pr = candidaturas[candidaturas['SG_UF'] == 'PR']\n",
    "amostra = candidaturas_pr.sample(10, random_state=67)\n",
    "amostra.columns"
   ]
  },
  {
   "cell_type": "code",
   "execution_count": 22,
   "metadata": {},
   "outputs": [
    {
     "data": {
      "text/plain": [
       "0    1194392016\n",
       "1    1225872016\n",
       "2    1013362016\n",
       "3    1134682016\n",
       "4    1065522016\n",
       "5    1182182016\n",
       "6    1247862016\n",
       "7    1969862016\n",
       "8    1211272016\n",
       "9    1151382016\n",
       "Name: NR_PROTOCOLO_CANDIDATURA, dtype: object"
      ]
     },
     "execution_count": 22,
     "metadata": {},
     "output_type": "execute_result"
    }
   ],
   "source": [
    "# vamos achar as documentos processuais?\n",
    "candidatos_pr = pd.read_csv(\n",
    "    '../dados/consulta_cand_2016_PR.csv', **juntar_tse.kwargs\n",
    ")\n",
    "\n",
    "# puxar os números do protocolo da candidatura\n",
    "amostra = amostra.merge(candidatos_pr, on='SQ_CANDIDATO')\n",
    "amostra['NR_PROTOCOLO_CANDIDATURA']"
   ]
  },
  {
   "cell_type": "code",
   "execution_count": 25,
   "metadata": {},
   "outputs": [
    {
     "data": {
      "text/plain": [
       "['http://inter03.tse.jus.br/sadpPush/ExibirDadosProcesso.do?nprot=1194392016&comboTribunal=pr',\n",
       " 'http://inter03.tse.jus.br/sadpPush/ExibirDadosProcesso.do?nprot=1225872016&comboTribunal=pr',\n",
       " 'http://inter03.tse.jus.br/sadpPush/ExibirDadosProcesso.do?nprot=1013362016&comboTribunal=pr',\n",
       " 'http://inter03.tse.jus.br/sadpPush/ExibirDadosProcesso.do?nprot=1134682016&comboTribunal=pr',\n",
       " 'http://inter03.tse.jus.br/sadpPush/ExibirDadosProcesso.do?nprot=1065522016&comboTribunal=pr',\n",
       " 'http://inter03.tse.jus.br/sadpPush/ExibirDadosProcesso.do?nprot=1182182016&comboTribunal=pr',\n",
       " 'http://inter03.tse.jus.br/sadpPush/ExibirDadosProcesso.do?nprot=1247862016&comboTribunal=pr',\n",
       " 'http://inter03.tse.jus.br/sadpPush/ExibirDadosProcesso.do?nprot=1969862016&comboTribunal=pr',\n",
       " 'http://inter03.tse.jus.br/sadpPush/ExibirDadosProcesso.do?nprot=1211272016&comboTribunal=pr',\n",
       " 'http://inter03.tse.jus.br/sadpPush/ExibirDadosProcesso.do?nprot=1151382016&comboTribunal=pr']"
      ]
     },
     "execution_count": 25,
     "metadata": {},
     "output_type": "execute_result"
    }
   ],
   "source": [
    "# criar link para raspar documentos\n",
    "documentos_link = [\n",
    "    f'http://inter03.tse.jus.br/sadpPush/ExibirDadosProcesso.do?' \\\n",
    "    f'nprot={nprot}&comboTribunal=pr' \\\n",
    "    for nprot in amostra['NR_PROTOCOLO_CANDIDATURA'].to_list()\n",
    "]\n",
    "print(documentos_link)"
   ]
  },
  {
   "cell_type": "markdown",
   "metadata": {},
   "source": [
    "## Baixar e processar os dados"
   ]
  },
  {
   "cell_type": "code",
   "execution_count": null,
   "metadata": {},
   "outputs": [],
   "source": [
    "# # baixar os arquivos\n",
    "# raspador = tse.scraper(navegador_automatico.browser)\n",
    "\n",
    "# # baixar todos\n",
    "# for i, url in enumerate(documentos_link):\n",
    "#     raspador.decision(url=url, filename=f'decisão_{i+1}')\n",
    "\n",
    "# # fechar\n",
    "# navegador_automatico.browser.quit()"
   ]
  },
  {
   "cell_type": "code",
   "execution_count": 27,
   "metadata": {},
   "outputs": [
    {
     "data": {
      "text/html": [
       "<div>\n",
       "<style scoped>\n",
       "    .dataframe tbody tr th:only-of-type {\n",
       "        vertical-align: middle;\n",
       "    }\n",
       "\n",
       "    .dataframe tbody tr th {\n",
       "        vertical-align: top;\n",
       "    }\n",
       "\n",
       "    .dataframe thead th {\n",
       "        text-align: right;\n",
       "    }\n",
       "</style>\n",
       "<table border=\"1\" class=\"dataframe\">\n",
       "  <thead>\n",
       "    <tr style=\"text-align: right;\">\n",
       "      <th></th>\n",
       "      <th>0</th>\n",
       "    </tr>\n",
       "  </thead>\n",
       "  <tbody>\n",
       "    <tr>\n",
       "      <th>case</th>\n",
       "      <td>Nº 0000299-72.2016.6.16.0127 - REGISTRO DE CAN...</td>\n",
       "    </tr>\n",
       "    <tr>\n",
       "      <th>town</th>\n",
       "      <td>NOVA OLÍMPIA-PRN.° Origem:</td>\n",
       "    </tr>\n",
       "    <tr>\n",
       "      <th>prot</th>\n",
       "      <td>1225872016 - 15/08/2016 18:13</td>\n",
       "    </tr>\n",
       "    <tr>\n",
       "      <th>claimants</th>\n",
       "      <td>COLIGAÇÃO GOVERNANDO COM O POVO (PMDB / PSC / ...</td>\n",
       "    </tr>\n",
       "    <tr>\n",
       "      <th>defendant</th>\n",
       "      <td>VERA ILSA BALDUINO DA SILVA, CARGO VEREADOR, N...</td>\n",
       "    </tr>\n",
       "    <tr>\n",
       "      <th>judge</th>\n",
       "      <td>FERNANDA BATISTA DORNELLES</td>\n",
       "    </tr>\n",
       "    <tr>\n",
       "      <th>subject</th>\n",
       "      <td>DIREITO ELEITORAL - Eleições - Candidatos - Re...</td>\n",
       "    </tr>\n",
       "    <tr>\n",
       "      <th>district</th>\n",
       "      <td>127ZE-127 ZONA ELEITORAL</td>\n",
       "    </tr>\n",
       "    <tr>\n",
       "      <th>stage</th>\n",
       "      <td>09/02/2017 12:21-Arquivado na seção</td>\n",
       "    </tr>\n",
       "  </tbody>\n",
       "</table>\n",
       "</div>"
      ],
      "text/plain": [
       "                                                           0\n",
       "case       Nº 0000299-72.2016.6.16.0127 - REGISTRO DE CAN...\n",
       "town                              NOVA OLÍMPIA-PRN.° Origem:\n",
       "prot                           1225872016 - 15/08/2016 18:13\n",
       "claimants  COLIGAÇÃO GOVERNANDO COM O POVO (PMDB / PSC / ...\n",
       "defendant  VERA ILSA BALDUINO DA SILVA, CARGO VEREADOR, N...\n",
       "judge                             FERNANDA BATISTA DORNELLES\n",
       "subject    DIREITO ELEITORAL - Eleições - Candidatos - Re...\n",
       "district                            127ZE-127 ZONA ELEITORAL\n",
       "stage                    09/02/2017 12:21-Arquivado na seção"
      ]
     },
     "execution_count": 27,
     "metadata": {},
     "output_type": "execute_result"
    }
   ],
   "source": [
    "# construir path para os arquivos\n",
    "decisões = [f'../dados/decisão_{i}.html' for i in range(0, 10)]\n",
    "\n",
    "# transformar em tabela\n",
    "sumário = parser(decisões[1])\n",
    "sumário.parse_summary()\n",
    "pd.DataFrame(sumário.parse_summary()).T"
   ]
  },
  {
   "cell_type": "code",
   "execution_count": 29,
   "metadata": {},
   "outputs": [
    {
     "name": "stdout",
     "output_type": "stream",
     "text": [
      "                                                case  \\\n",
      "0  Nº 0000304-61.2016.6.16.0041 - REGISTRO DE CAN...   \n",
      "1  Nº 0000299-72.2016.6.16.0127 - REGISTRO DE CAN...   \n",
      "2  Nº 0000050-36.2016.6.16.0123 - REGISTRO DE CAN...   \n",
      "3  Nº 0000161-14.2016.6.16.0028 - REGISTRO DE CAN...   \n",
      "4  Nº 0000186-20.2016.6.16.0095 - REGISTRO DE CAN...   \n",
      "5  Nº 0000280-70.2016.6.16.0061 - REGISTRO DE CAN...   \n",
      "6  Nº 0000180-76.2016.6.16.0074 - REGISTRO DE CAN...   \n",
      "7  Nº 0000259-85.2016.6.16.0161 - REGISTRO DE CAN...   \n",
      "8  Nº 0000271-55.2016.6.16.0111 - REGISTRO DE CAN...   \n",
      "9  Nº 0000186-10.2016.6.16.0163 - REGISTRO DE CAN...   \n",
      "\n",
      "                                    town                           prot  \\\n",
      "0                 LONDRINA-PRN.° Origem:  1194392016 - 15/08/2016 17:09   \n",
      "1             NOVA OLÍMPIA-PRN.° Origem:  1225872016 - 15/08/2016 18:13   \n",
      "2  SÃO JORGE DO PATROCÍNIO-PRN.° Origem:  1013362016 - 12/08/2016 18:24   \n",
      "3                APUCARANA-PRN.° Origem:  1134682016 - 15/08/2016 14:58   \n",
      "4                 COLORADO-PRN.° Origem:  1065522016 - 15/08/2016 12:32   \n",
      "5                ARAPONGAS-PRN.° Origem:  1182182016 - 15/08/2016 16:37   \n",
      "6                  PEABIRU-PRN.° Origem:  1247862016 - 15/08/2016 18:54   \n",
      "7                GUARATUBA-PRN.° Origem:  1969862016 - 12/09/2016 17:54   \n",
      "8           TELÊMACO BORBA-PRN.° Origem:  1211272016 - 15/08/2016 17:44   \n",
      "9         QUEDAS DO IGUAÇU-PRN.° Origem:  1151382016 - 15/08/2016 15:27   \n",
      "\n",
      "                                           claimants  \\\n",
      "0           COLIGAÇÃO LONDRINA PRA FRENTE (PP / PTB)   \n",
      "1  COLIGAÇÃO GOVERNANDO COM O POVO (PMDB / PSC / ...   \n",
      "2            COLIGAÇÃO PSD, PP, PTN (PSD / PP / PTN)   \n",
      "3  COLIGAÇÃO PTB-PMDB-PPS (PTB / PMDB / PPS), COL...   \n",
      "4  COLIGAÇÃO JUNTOS POR COLORADO (PPL / PT DO B /...   \n",
      "5                        COLIGAÇÃO PP E SD (PP / SD)   \n",
      "6  COLIGAÇÃO PSB - PDT - PEN - PT DO B - PSC - PR...   \n",
      "7        COLIGAÇÃO GUARATUBA MAIS HUMANA (PMDB / PT)   \n",
      "8  COLIGAÇÃO JUNTOS POR TELÊMACO BORBA (PMB / PSD...   \n",
      "9  COLIGAÇÃO A FORÇA QUE VEM DO POVO (PMDB / PDT ...   \n",
      "\n",
      "                                           defendant  \\\n",
      "0  MAURICIO QUIMENTON COSTA, CARGO VEREADOR, Nº: ...   \n",
      "1  VERA ILSA BALDUINO DA SILVA, CARGO VEREADOR, N...   \n",
      "2  FERNANDO DANIEL SCHMITD, CARGO VEREADOR, Nº: 5...   \n",
      "3                JUÍZO ELEITORAL DA 28ª ZONA, TRE-PR   \n",
      "4  LEANDRO PIRES DA SILVA, CARGO VEREADOR, Nº: 54000   \n",
      "5     JOSE MARIA DA SILVA, CARGO VEREADOR, Nº: 11611   \n",
      "6  JOSINEL PEZINI DOS SANTOS, CARGO VEREADOR, Nº:...   \n",
      "7     MARIA NEUSA DE LIMA, CARGO VEREADOR, Nº: 13321   \n",
      "8  VINICIUS RIBEIRO RAMOS, CARGO VEREADOR, Nº: 45000   \n",
      "9  PAULA TERESINHA REVERS, CARGO VEREADOR, Nº: 27555   \n",
      "\n",
      "                                 judge  \\\n",
      "0               MATHEUS ORLANDI MENDES   \n",
      "1           FERNANDA BATISTA DORNELLES   \n",
      "2   GUILHERME ARANDA CASTRO DOS SANTOS   \n",
      "3                 RENATA BOLZAN JAURIS   \n",
      "4               LUCIANA PAULA KULEVICZ   \n",
      "5  RENATA MARIA FERNANDES SASSI FANTIN   \n",
      "6        PAULO EDUARDO MARQUES PEQUITO   \n",
      "7                GIOVANNA DE SÁ RECHIA   \n",
      "8        MARCELO FURLANETTO DA FONSECA   \n",
      "9               PAULA CHEDID MAGALHÃES   \n",
      "\n",
      "                                             subject  \\\n",
      "0  DIREITO ELEITORAL - Eleições - Candidatos - Re...   \n",
      "1  DIREITO ELEITORAL - Eleições - Candidatos - Re...   \n",
      "2  DIREITO ELEITORAL - Eleições - Candidatos - Re...   \n",
      "3  DIREITO ELEITORAL - Eleições - Candidatos - Re...   \n",
      "4  DIREITO ELEITORAL - Eleições - Candidatos - Re...   \n",
      "5  DIREITO ELEITORAL - Eleições - Candidatos - Re...   \n",
      "6  DIREITO ELEITORAL - Eleições - Candidatos - Re...   \n",
      "7  DIREITO ELEITORAL - Eleições - Candidatos - Re...   \n",
      "8  DIREITO ELEITORAL - Eleições - Candidatos - Re...   \n",
      "9  DIREITO ELEITORAL - Eleições - Candidatos - Re...   \n",
      "\n",
      "                   district                                stage  \n",
      "0  041ZE-041 ZONA ELEITORAL  25/09/2016 15:56-Arquivado na seção  \n",
      "1  127ZE-127 ZONA ELEITORAL  09/02/2017 12:21-Arquivado na seção  \n",
      "2  123ZE-123 ZONA ELEITORAL  23/11/2016 12:10-Arquivado na seção  \n",
      "3  028ZE-028 ZONA ELEITORAL  20/03/2017 16:41-Arquivado na seção  \n",
      "4  095ZE-095 ZONA ELEITORAL  07/03/2017 17:30-Arquivado na seção  \n",
      "5  061ZE-061 ZONA ELEITORAL  14/03/2017 17:44-Arquivado na seção  \n",
      "6  074ZE-074 ZONA ELEITORAL            19/05/2020 18:50-Certidão  \n",
      "7  161ZE-161 ZONA ELEITORAL  13/04/2017 16:35-Arquivado na seção  \n",
      "8  111ZE-111 ZONA ELEITORAL  31/03/2017 15:39-Arquivado na seção  \n",
      "9  163ZE-163 ZONA ELEITORAL  14/03/2017 16:46-Arquivado na seção  \n"
     ]
    }
   ],
   "source": [
    "# criar banco de dados\n",
    "sumários = pd.concat(\n",
    "    [pd.DataFrame(parser(decisão).parse_summary()) for decisão in decisões],\n",
    "    ignore_index=True\n",
    ")\n",
    "print(sumários)"
   ]
  },
  {
   "cell_type": "code",
   "execution_count": 30,
   "metadata": {},
   "outputs": [
    {
     "data": {
      "text/plain": [
       "0    041ZE-041 ZONA ELEITORAL\n",
       "1    127ZE-127 ZONA ELEITORAL\n",
       "2    123ZE-123 ZONA ELEITORAL\n",
       "3    028ZE-028 ZONA ELEITORAL\n",
       "4    095ZE-095 ZONA ELEITORAL\n",
       "5    061ZE-061 ZONA ELEITORAL\n",
       "6    074ZE-074 ZONA ELEITORAL\n",
       "7    161ZE-161 ZONA ELEITORAL\n",
       "8    111ZE-111 ZONA ELEITORAL\n",
       "9    163ZE-163 ZONA ELEITORAL\n",
       "Name: district, dtype: object"
      ]
     },
     "execution_count": 30,
     "metadata": {},
     "output_type": "execute_result"
    }
   ],
   "source": [
    "# onde estão estes processos? nas seguintes zonas eleitorais\n",
    "sumários['district']"
   ]
  },
  {
   "cell_type": "markdown",
   "metadata": {},
   "source": [
    "## Parte 3: Processamento de Linguagem Natural (NLP)"
   ]
  },
  {
   "cell_type": "code",
   "execution_count": null,
   "metadata": {},
   "outputs": [],
   "source": []
  }
 ],
 "metadata": {
  "kernelspec": {
   "display_name": "Python [conda env:root] *",
   "language": "python",
   "name": "conda-root-py"
  },
  "language_info": {
   "codemirror_mode": {
    "name": "ipython",
    "version": 3
   },
   "file_extension": ".py",
   "mimetype": "text/x-python",
   "name": "python",
   "nbconvert_exporter": "python",
   "pygments_lexer": "ipython3",
   "version": "3.7.7"
  }
 },
 "nbformat": 4,
 "nbformat_minor": 4
}
