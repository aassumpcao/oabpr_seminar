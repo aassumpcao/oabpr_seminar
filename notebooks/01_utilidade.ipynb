{
 "cells": [
  {
   "cell_type": "code",
   "execution_count": 4,
   "metadata": {},
   "outputs": [],
   "source": [
    "# importar os pacotes necessários para fazer análise\n",
    "import pandas as pd, numpy as np\n",
    "import os, re\n",
    "import requests"
   ]
  },
  {
   "cell_type": "code",
   "execution_count": 11,
   "metadata": {},
   "outputs": [],
   "source": [
    "# baixar os dados\n",
    "URL = 'http://agencia.tse.jus.br/estatistica/sead/odsele/motivo_cassacao/motivo_cassacao_2016.zip'\n",
    "\n",
    "\n",
    "\n",
    "\n",
    "# importar os dados\n",
    "candidaturas = pd.read_csv('../dados/indeferimento2016.csv')"
   ]
  },
  {
   "cell_type": "code",
   "execution_count": 10,
   "metadata": {},
   "outputs": [
    {
     "data": {
      "text/plain": [
       "array(['Ausência de requisito de registro',\n",
       "       'Indeferimento de partido ou coligação.', 'Ficha limpa (LC 64/90)',\n",
       "       'Conduta vedada (Lei 9.504/97).', 'Abuso de poder (LC 64/90)',\n",
       "       'Compra de voto (Lei 9.504/97).', 'Impugnação',\n",
       "       'Gasto ilícito de recursos (Lei 9.504/97).'], dtype=object)"
      ]
     },
     "execution_count": 10,
     "metadata": {},
     "output_type": "execute_result"
    }
   ],
   "source": [
    "# \n",
    "candidaturas['DS_MOTIVO_CASSACAO'].unique()"
   ]
  },
  {
   "cell_type": "code",
   "execution_count": null,
   "metadata": {},
   "outputs": [],
   "source": []
  }
 ],
 "metadata": {
  "kernelspec": {
   "display_name": "Python [conda env:root] *",
   "language": "python",
   "name": "conda-root-py"
  },
  "language_info": {
   "codemirror_mode": {
    "name": "ipython",
    "version": 3
   },
   "file_extension": ".py",
   "mimetype": "text/x-python",
   "name": "python",
   "nbconvert_exporter": "python",
   "pygments_lexer": "ipython3",
   "version": "3.7.7"
  }
 },
 "nbformat": 4,
 "nbformat_minor": 4
}
