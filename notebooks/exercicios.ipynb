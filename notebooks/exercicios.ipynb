{
 "cells": [
  {
   "cell_type": "markdown",
   "metadata": {},
   "source": [
    "# Parte 1: Utilidade"
   ]
  },
  {
   "cell_type": "markdown",
   "metadata": {},
   "source": [
    "## Importar os pacotes necessários"
   ]
  },
  {
   "cell_type": "code",
   "execution_count": 2,
   "metadata": {},
   "outputs": [],
   "source": [
    "# importar os pacotes necessários para fazer análise\n",
    "import pandas as pd, numpy as np\n",
    "import os, re\n",
    "import requests\n",
    "import zipfile"
   ]
  },
  {
   "cell_type": "markdown",
   "metadata": {},
   "source": [
    "## Definir funções para processar os dados"
   ]
  },
  {
   "cell_type": "code",
   "execution_count": 3,
   "metadata": {},
   "outputs": [],
   "source": [
    "# definir função que baixa os dados\n",
    "def baixar_tse():\n",
    "    URL = 'http://agencia.tse.jus.br/estatistica/sead/odsele/motivo_cassacao/motivo_cassacao_2016.zip'\n",
    "    r = requests.get(URL)\n",
    "    with open('../dados/motivo_cassacao2016.zip', 'wb') as arquivo:\n",
    "        arquivo.write(r.content)\n",
    "    return 'Motivo(s) para Indeferimento 2016 baixado(s) com sucesso.'\n",
    "\n",
    "# definir função de descomprime arquivo do tse\n",
    "def unzip_tse():\n",
    "    with zipfile.ZipFile('../dados/motivo_cassacao2016.zip', 'r') as zip:\n",
    "        zip.extractall('../dados')\n",
    "    return 'Arquivo(s) descomprimido(s) com sucesso.'\n",
    "\n",
    "# definir função para juntar os dados do tse\n",
    "def juntar_tse():\n",
    "    regex = re.compile(r'motivo.*csv$')\n",
    "    juntar_tse.kwargs = {\n",
    "        'engine': 'python', 'encoding': 'latin1', 'sep':';', 'quoting': 1,\n",
    "        'dtype': str\n",
    "    }\n",
    "    arquivos = os.listdir('../dados')\n",
    "    arquivos = list(filter(regex.search, arquivos))\n",
    "    arquivos = [\n",
    "        os.path.join(os.path.realpath('../dados'), arquivo) \\\n",
    "        for arquivo in arquivos\n",
    "    ]\n",
    "    dados = pd.concat(\n",
    "        [pd.read_csv(arquivo, **juntar_tse.kwargs) for arquivo in arquivos],\n",
    "        ignore_index=True\n",
    "    )\n",
    "    dados = dados[dados['DS_MOTIVO_CASSACAO'].notna()]\n",
    "    print('Arquivo(s) juntado(s) com sucesso.')\n",
    "    return dados"
   ]
  },
  {
   "cell_type": "markdown",
   "metadata": {},
   "source": [
    "## Executar funções"
   ]
  },
  {
   "cell_type": "code",
   "execution_count": 4,
   "metadata": {},
   "outputs": [
    {
     "data": {
      "text/plain": [
       "'Motivo(s) para Indeferimento 2016 baixado(s) com sucesso.'"
      ]
     },
     "execution_count": 4,
     "metadata": {},
     "output_type": "execute_result"
    }
   ],
   "source": [
    "# executar função\n",
    "baixar_tse()"
   ]
  },
  {
   "cell_type": "code",
   "execution_count": 5,
   "metadata": {},
   "outputs": [
    {
     "data": {
      "text/plain": [
       "'Arquivo(s) descomprimido(s) com sucesso.'"
      ]
     },
     "execution_count": 5,
     "metadata": {},
     "output_type": "execute_result"
    }
   ],
   "source": [
    "# executar função\n",
    "unzip_tse()"
   ]
  },
  {
   "cell_type": "code",
   "execution_count": 6,
   "metadata": {},
   "outputs": [
    {
     "name": "stdout",
     "output_type": "stream",
     "text": [
      "Arquivo(s) juntado(s) com sucesso.\n"
     ]
    }
   ],
   "source": [
    "# executar função e salvar o resultado no banco de dados chamado \"candidaturas\"\n",
    "candidaturas = juntar_tse()"
   ]
  },
  {
   "cell_type": "markdown",
   "metadata": {},
   "source": [
    "## Exibir dados preliminares"
   ]
  },
  {
   "cell_type": "code",
   "execution_count": 7,
   "metadata": {},
   "outputs": [
    {
     "data": {
      "text/html": [
       "<div>\n",
       "<style scoped>\n",
       "    .dataframe tbody tr th:only-of-type {\n",
       "        vertical-align: middle;\n",
       "    }\n",
       "\n",
       "    .dataframe tbody tr th {\n",
       "        vertical-align: top;\n",
       "    }\n",
       "\n",
       "    .dataframe thead th {\n",
       "        text-align: right;\n",
       "    }\n",
       "</style>\n",
       "<table border=\"1\" class=\"dataframe\">\n",
       "  <thead>\n",
       "    <tr style=\"text-align: right;\">\n",
       "      <th></th>\n",
       "      <th>DT_GERACAO</th>\n",
       "      <th>HH_GERACAO</th>\n",
       "      <th>ANO_ELEICAO</th>\n",
       "      <th>CD_TIPO_ELEICAO</th>\n",
       "      <th>NM_TIPO_ELEICAO</th>\n",
       "      <th>CD_ELEICAO</th>\n",
       "      <th>DS_ELEICAO</th>\n",
       "      <th>SG_UF</th>\n",
       "      <th>SG_UE</th>\n",
       "      <th>NM_UE</th>\n",
       "      <th>SQ_CANDIDATO</th>\n",
       "      <th>DS_MOTIVO_CASSACAO</th>\n",
       "    </tr>\n",
       "  </thead>\n",
       "  <tbody>\n",
       "    <tr>\n",
       "      <th>12545</th>\n",
       "      <td>23/01/2020</td>\n",
       "      <td>08:45:56</td>\n",
       "      <td>2016</td>\n",
       "      <td>2</td>\n",
       "      <td>Eleição Ordinária</td>\n",
       "      <td>220</td>\n",
       "      <td>Eleições Municipais 2016</td>\n",
       "      <td>SP</td>\n",
       "      <td>61573</td>\n",
       "      <td>ARAÇOIABA DA SERRA</td>\n",
       "      <td>250000013929</td>\n",
       "      <td>Abuso de poder (LC 64/90)</td>\n",
       "    </tr>\n",
       "    <tr>\n",
       "      <th>12162</th>\n",
       "      <td>23/01/2020</td>\n",
       "      <td>08:45:56</td>\n",
       "      <td>2016</td>\n",
       "      <td>2</td>\n",
       "      <td>Eleição Ordinária</td>\n",
       "      <td>220</td>\n",
       "      <td>Eleições Municipais 2016</td>\n",
       "      <td>SP</td>\n",
       "      <td>71072</td>\n",
       "      <td>SÃO PAULO</td>\n",
       "      <td>250000093980</td>\n",
       "      <td>Ausência de requisito de registro</td>\n",
       "    </tr>\n",
       "    <tr>\n",
       "      <th>12988</th>\n",
       "      <td>23/01/2020</td>\n",
       "      <td>08:45:56</td>\n",
       "      <td>2016</td>\n",
       "      <td>2</td>\n",
       "      <td>Eleição Ordinária</td>\n",
       "      <td>220</td>\n",
       "      <td>Eleições Municipais 2016</td>\n",
       "      <td>SP</td>\n",
       "      <td>62910</td>\n",
       "      <td>CAMPINAS</td>\n",
       "      <td>250000031045</td>\n",
       "      <td>Ausência de requisito de registro</td>\n",
       "    </tr>\n",
       "    <tr>\n",
       "      <th>1237</th>\n",
       "      <td>23/01/2020</td>\n",
       "      <td>08:45:56</td>\n",
       "      <td>2016</td>\n",
       "      <td>2</td>\n",
       "      <td>Eleição Ordinária</td>\n",
       "      <td>220</td>\n",
       "      <td>Eleições Municipais 2016</td>\n",
       "      <td>AM</td>\n",
       "      <td>02593</td>\n",
       "      <td>MARAÃ</td>\n",
       "      <td>40000001820</td>\n",
       "      <td>Ausência de requisito de registro</td>\n",
       "    </tr>\n",
       "    <tr>\n",
       "      <th>5005</th>\n",
       "      <td>23/01/2020</td>\n",
       "      <td>08:45:56</td>\n",
       "      <td>2016</td>\n",
       "      <td>2</td>\n",
       "      <td>Eleição Ordinária</td>\n",
       "      <td>220</td>\n",
       "      <td>Eleições Municipais 2016</td>\n",
       "      <td>PE</td>\n",
       "      <td>24236</td>\n",
       "      <td>GOIANA</td>\n",
       "      <td>170000015671</td>\n",
       "      <td>Indeferimento de partido ou coligação.</td>\n",
       "    </tr>\n",
       "    <tr>\n",
       "      <th>3623</th>\n",
       "      <td>23/01/2020</td>\n",
       "      <td>08:45:56</td>\n",
       "      <td>2016</td>\n",
       "      <td>2</td>\n",
       "      <td>Eleição Ordinária</td>\n",
       "      <td>220</td>\n",
       "      <td>Eleições Municipais 2016</td>\n",
       "      <td>BA</td>\n",
       "      <td>33634</td>\n",
       "      <td>BARREIRAS</td>\n",
       "      <td>50000017648</td>\n",
       "      <td>Ausência de requisito de registro</td>\n",
       "    </tr>\n",
       "    <tr>\n",
       "      <th>18004</th>\n",
       "      <td>23/01/2020</td>\n",
       "      <td>08:45:56</td>\n",
       "      <td>2016</td>\n",
       "      <td>2</td>\n",
       "      <td>Eleição Ordinária</td>\n",
       "      <td>220</td>\n",
       "      <td>Eleições Municipais 2016</td>\n",
       "      <td>MT</td>\n",
       "      <td>91170</td>\n",
       "      <td>NOBRES</td>\n",
       "      <td>110000004691</td>\n",
       "      <td>Ausência de requisito de registro</td>\n",
       "    </tr>\n",
       "    <tr>\n",
       "      <th>8127</th>\n",
       "      <td>23/01/2020</td>\n",
       "      <td>08:45:56</td>\n",
       "      <td>2016</td>\n",
       "      <td>2</td>\n",
       "      <td>Eleição Ordinária</td>\n",
       "      <td>220</td>\n",
       "      <td>Eleições Municipais 2016</td>\n",
       "      <td>RJ</td>\n",
       "      <td>60011</td>\n",
       "      <td>RIO DE JANEIRO</td>\n",
       "      <td>190000011863</td>\n",
       "      <td>Ausência de requisito de registro</td>\n",
       "    </tr>\n",
       "    <tr>\n",
       "      <th>15199</th>\n",
       "      <td>23/01/2020</td>\n",
       "      <td>08:45:56</td>\n",
       "      <td>2016</td>\n",
       "      <td>2</td>\n",
       "      <td>Eleição Ordinária</td>\n",
       "      <td>220</td>\n",
       "      <td>Eleições Municipais 2016</td>\n",
       "      <td>MS</td>\n",
       "      <td>90859</td>\n",
       "      <td>IGUATEMI</td>\n",
       "      <td>120000005804</td>\n",
       "      <td>Ausência de requisito de registro</td>\n",
       "    </tr>\n",
       "    <tr>\n",
       "      <th>4847</th>\n",
       "      <td>23/01/2020</td>\n",
       "      <td>08:45:56</td>\n",
       "      <td>2016</td>\n",
       "      <td>2</td>\n",
       "      <td>Eleição Ordinária</td>\n",
       "      <td>220</td>\n",
       "      <td>Eleições Municipais 2016</td>\n",
       "      <td>PE</td>\n",
       "      <td>25496</td>\n",
       "      <td>SANTA CRUZ DO CAPIBARIBE</td>\n",
       "      <td>170000015088</td>\n",
       "      <td>Ausência de requisito de registro</td>\n",
       "    </tr>\n",
       "  </tbody>\n",
       "</table>\n",
       "</div>"
      ],
      "text/plain": [
       "       DT_GERACAO HH_GERACAO ANO_ELEICAO CD_TIPO_ELEICAO    NM_TIPO_ELEICAO  \\\n",
       "12545  23/01/2020   08:45:56        2016               2  Eleição Ordinária   \n",
       "12162  23/01/2020   08:45:56        2016               2  Eleição Ordinária   \n",
       "12988  23/01/2020   08:45:56        2016               2  Eleição Ordinária   \n",
       "1237   23/01/2020   08:45:56        2016               2  Eleição Ordinária   \n",
       "5005   23/01/2020   08:45:56        2016               2  Eleição Ordinária   \n",
       "3623   23/01/2020   08:45:56        2016               2  Eleição Ordinária   \n",
       "18004  23/01/2020   08:45:56        2016               2  Eleição Ordinária   \n",
       "8127   23/01/2020   08:45:56        2016               2  Eleição Ordinária   \n",
       "15199  23/01/2020   08:45:56        2016               2  Eleição Ordinária   \n",
       "4847   23/01/2020   08:45:56        2016               2  Eleição Ordinária   \n",
       "\n",
       "      CD_ELEICAO                DS_ELEICAO SG_UF  SG_UE  \\\n",
       "12545        220  Eleições Municipais 2016    SP  61573   \n",
       "12162        220  Eleições Municipais 2016    SP  71072   \n",
       "12988        220  Eleições Municipais 2016    SP  62910   \n",
       "1237         220  Eleições Municipais 2016    AM  02593   \n",
       "5005         220  Eleições Municipais 2016    PE  24236   \n",
       "3623         220  Eleições Municipais 2016    BA  33634   \n",
       "18004        220  Eleições Municipais 2016    MT  91170   \n",
       "8127         220  Eleições Municipais 2016    RJ  60011   \n",
       "15199        220  Eleições Municipais 2016    MS  90859   \n",
       "4847         220  Eleições Municipais 2016    PE  25496   \n",
       "\n",
       "                          NM_UE  SQ_CANDIDATO  \\\n",
       "12545        ARAÇOIABA DA SERRA  250000013929   \n",
       "12162                 SÃO PAULO  250000093980   \n",
       "12988                  CAMPINAS  250000031045   \n",
       "1237                      MARAÃ   40000001820   \n",
       "5005                     GOIANA  170000015671   \n",
       "3623                  BARREIRAS   50000017648   \n",
       "18004                    NOBRES  110000004691   \n",
       "8127             RIO DE JANEIRO  190000011863   \n",
       "15199                  IGUATEMI  120000005804   \n",
       "4847   SANTA CRUZ DO CAPIBARIBE  170000015088   \n",
       "\n",
       "                           DS_MOTIVO_CASSACAO  \n",
       "12545               Abuso de poder (LC 64/90)  \n",
       "12162      Ausência de requisito de registro   \n",
       "12988      Ausência de requisito de registro   \n",
       "1237       Ausência de requisito de registro   \n",
       "5005   Indeferimento de partido ou coligação.  \n",
       "3623       Ausência de requisito de registro   \n",
       "18004      Ausência de requisito de registro   \n",
       "8127       Ausência de requisito de registro   \n",
       "15199      Ausência de requisito de registro   \n",
       "4847       Ausência de requisito de registro   "
      ]
     },
     "execution_count": 7,
     "metadata": {},
     "output_type": "execute_result"
    }
   ],
   "source": [
    "# mostrar os dados\n",
    "candidaturas.sample(10)"
   ]
  },
  {
   "cell_type": "code",
   "execution_count": 8,
   "metadata": {},
   "outputs": [
    {
     "data": {
      "text/plain": [
       "['Ausência de requisito de registro ',\n",
       " 'Indeferimento de partido ou coligação.',\n",
       " 'Compra de voto (Lei 9.504/97).',\n",
       " 'Ficha limpa (LC 64/90)',\n",
       " 'Abuso de poder (LC 64/90)',\n",
       " 'Gasto ilícito de recursos (Lei 9.504/97).',\n",
       " 'Impugnação',\n",
       " 'Conduta vedada (Lei 9.504/97).']"
      ]
     },
     "execution_count": 8,
     "metadata": {},
     "output_type": "execute_result"
    }
   ],
   "source": [
    "# verificar os motivos para cassação\n",
    "list(candidaturas['DS_MOTIVO_CASSACAO'].unique())"
   ]
  },
  {
   "cell_type": "markdown",
   "metadata": {},
   "source": [
    "## Focar no Paraná"
   ]
  },
  {
   "cell_type": "code",
   "execution_count": 9,
   "metadata": {},
   "outputs": [],
   "source": [
    "# focar em 10 candidatos no paraná\n",
    "amostra_pr = candidaturas[candidaturas['SG_UF'] == 'PR'].sample(10, random_state=67)"
   ]
  },
  {
   "cell_type": "code",
   "execution_count": 10,
   "metadata": {},
   "outputs": [
    {
     "data": {
      "text/plain": [
       "['DT_GERACAO',\n",
       " 'HH_GERACAO',\n",
       " 'ANO_ELEICAO',\n",
       " 'CD_TIPO_ELEICAO',\n",
       " 'NM_TIPO_ELEICAO',\n",
       " 'CD_ELEICAO',\n",
       " 'DS_ELEICAO',\n",
       " 'SG_UF',\n",
       " 'SG_UE',\n",
       " 'NM_UE',\n",
       " 'SQ_CANDIDATO',\n",
       " 'DS_MOTIVO_CASSACAO']"
      ]
     },
     "execution_count": 10,
     "metadata": {},
     "output_type": "execute_result"
    }
   ],
   "source": [
    "# mostrar quais informações nós obtivemos\n",
    "amostra_pr.columns.to_list()"
   ]
  },
  {
   "cell_type": "code",
   "execution_count": 11,
   "metadata": {},
   "outputs": [],
   "source": [
    "# juntar os motivos de cassação com outros dados dos candidatos?\n",
    "candidatos_pr = pd.read_csv('../dados/consulta_cand_2016_PR.csv', **juntar_tse.kwargs)"
   ]
  },
  {
   "cell_type": "code",
   "execution_count": 12,
   "metadata": {},
   "outputs": [],
   "source": [
    "# puxar os números do protocolo da candidatura\n",
    "amostra_pr = amostra_pr.merge(candidatos_pr, on='SQ_CANDIDATO')"
   ]
  },
  {
   "cell_type": "code",
   "execution_count": 13,
   "metadata": {},
   "outputs": [
    {
     "data": {
      "text/html": [
       "<div>\n",
       "<style scoped>\n",
       "    .dataframe tbody tr th:only-of-type {\n",
       "        vertical-align: middle;\n",
       "    }\n",
       "\n",
       "    .dataframe tbody tr th {\n",
       "        vertical-align: top;\n",
       "    }\n",
       "\n",
       "    .dataframe thead th {\n",
       "        text-align: right;\n",
       "    }\n",
       "</style>\n",
       "<table border=\"1\" class=\"dataframe\">\n",
       "  <thead>\n",
       "    <tr style=\"text-align: right;\">\n",
       "      <th></th>\n",
       "      <th>NM_CANDIDATO</th>\n",
       "      <th>NM_UE_x</th>\n",
       "      <th>DS_CARGO</th>\n",
       "      <th>NR_PROTOCOLO_CANDIDATURA</th>\n",
       "    </tr>\n",
       "  </thead>\n",
       "  <tbody>\n",
       "    <tr>\n",
       "      <th>0</th>\n",
       "      <td>MAURICIO QUIMENTON COSTA</td>\n",
       "      <td>LONDRINA</td>\n",
       "      <td>VEREADOR</td>\n",
       "      <td>1194392016</td>\n",
       "    </tr>\n",
       "    <tr>\n",
       "      <th>1</th>\n",
       "      <td>VERA ILSA BALDUINO DA SILVA</td>\n",
       "      <td>NOVA OLÍMPIA</td>\n",
       "      <td>VEREADOR</td>\n",
       "      <td>1225872016</td>\n",
       "    </tr>\n",
       "    <tr>\n",
       "      <th>2</th>\n",
       "      <td>FERNANDO DANIEL SCHMIDT</td>\n",
       "      <td>SÃO JORGE DO PATROCÍNIO</td>\n",
       "      <td>VEREADOR</td>\n",
       "      <td>1013362016</td>\n",
       "    </tr>\n",
       "    <tr>\n",
       "      <th>3</th>\n",
       "      <td>LUCIANO DA SILVA</td>\n",
       "      <td>APUCARANA</td>\n",
       "      <td>VEREADOR</td>\n",
       "      <td>1134682016</td>\n",
       "    </tr>\n",
       "    <tr>\n",
       "      <th>4</th>\n",
       "      <td>LEANDRO PIRES DA SILVA</td>\n",
       "      <td>COLORADO</td>\n",
       "      <td>VEREADOR</td>\n",
       "      <td>1065522016</td>\n",
       "    </tr>\n",
       "    <tr>\n",
       "      <th>5</th>\n",
       "      <td>JOSE MARIA DA SILVA</td>\n",
       "      <td>ARAPONGAS</td>\n",
       "      <td>VEREADOR</td>\n",
       "      <td>1182182016</td>\n",
       "    </tr>\n",
       "    <tr>\n",
       "      <th>6</th>\n",
       "      <td>JOSINEL PEZINI DOS SANTOS</td>\n",
       "      <td>PEABIRU</td>\n",
       "      <td>VEREADOR</td>\n",
       "      <td>1247862016</td>\n",
       "    </tr>\n",
       "    <tr>\n",
       "      <th>7</th>\n",
       "      <td>MARIA NEUSA DE LIMA</td>\n",
       "      <td>GUARATUBA</td>\n",
       "      <td>VEREADOR</td>\n",
       "      <td>1969862016</td>\n",
       "    </tr>\n",
       "    <tr>\n",
       "      <th>8</th>\n",
       "      <td>VINICIUS RIBEIRO RAMOS</td>\n",
       "      <td>TELÊMACO BORBA</td>\n",
       "      <td>VEREADOR</td>\n",
       "      <td>1211272016</td>\n",
       "    </tr>\n",
       "    <tr>\n",
       "      <th>9</th>\n",
       "      <td>PAULA TERESINHA REVERS</td>\n",
       "      <td>QUEDAS DO IGUAÇU</td>\n",
       "      <td>VEREADOR</td>\n",
       "      <td>1151382016</td>\n",
       "    </tr>\n",
       "  </tbody>\n",
       "</table>\n",
       "</div>"
      ],
      "text/plain": [
       "                  NM_CANDIDATO                  NM_UE_x  DS_CARGO  \\\n",
       "0     MAURICIO QUIMENTON COSTA                 LONDRINA  VEREADOR   \n",
       "1  VERA ILSA BALDUINO DA SILVA             NOVA OLÍMPIA  VEREADOR   \n",
       "2      FERNANDO DANIEL SCHMIDT  SÃO JORGE DO PATROCÍNIO  VEREADOR   \n",
       "3             LUCIANO DA SILVA                APUCARANA  VEREADOR   \n",
       "4       LEANDRO PIRES DA SILVA                 COLORADO  VEREADOR   \n",
       "5          JOSE MARIA DA SILVA                ARAPONGAS  VEREADOR   \n",
       "6    JOSINEL PEZINI DOS SANTOS                  PEABIRU  VEREADOR   \n",
       "7          MARIA NEUSA DE LIMA                GUARATUBA  VEREADOR   \n",
       "8       VINICIUS RIBEIRO RAMOS           TELÊMACO BORBA  VEREADOR   \n",
       "9       PAULA TERESINHA REVERS         QUEDAS DO IGUAÇU  VEREADOR   \n",
       "\n",
       "  NR_PROTOCOLO_CANDIDATURA  \n",
       "0               1194392016  \n",
       "1               1225872016  \n",
       "2               1013362016  \n",
       "3               1134682016  \n",
       "4               1065522016  \n",
       "5               1182182016  \n",
       "6               1247862016  \n",
       "7               1969862016  \n",
       "8               1211272016  \n",
       "9               1151382016  "
      ]
     },
     "execution_count": 13,
     "metadata": {},
     "output_type": "execute_result"
    }
   ],
   "source": [
    "# disponibilizar na tela os números dos protocolos de candidatura\n",
    "# amostra_pr.columns\n",
    "amostra_pr[['NM_CANDIDATO', 'NM_UE_x', 'DS_CARGO', 'NR_PROTOCOLO_CANDIDATURA']]"
   ]
  },
  {
   "cell_type": "code",
   "execution_count": 14,
   "metadata": {},
   "outputs": [
    {
     "name": "stdout",
     "output_type": "stream",
     "text": [
      "http://inter03.tse.jus.br/sadpPush/ExibirDadosProcesso.do?nprot=1194392016&comboTribunal=pr\n",
      "http://inter03.tse.jus.br/sadpPush/ExibirDadosProcesso.do?nprot=1225872016&comboTribunal=pr\n",
      "http://inter03.tse.jus.br/sadpPush/ExibirDadosProcesso.do?nprot=1013362016&comboTribunal=pr\n",
      "http://inter03.tse.jus.br/sadpPush/ExibirDadosProcesso.do?nprot=1134682016&comboTribunal=pr\n",
      "http://inter03.tse.jus.br/sadpPush/ExibirDadosProcesso.do?nprot=1065522016&comboTribunal=pr\n",
      "http://inter03.tse.jus.br/sadpPush/ExibirDadosProcesso.do?nprot=1182182016&comboTribunal=pr\n",
      "http://inter03.tse.jus.br/sadpPush/ExibirDadosProcesso.do?nprot=1247862016&comboTribunal=pr\n",
      "http://inter03.tse.jus.br/sadpPush/ExibirDadosProcesso.do?nprot=1969862016&comboTribunal=pr\n",
      "http://inter03.tse.jus.br/sadpPush/ExibirDadosProcesso.do?nprot=1211272016&comboTribunal=pr\n",
      "http://inter03.tse.jus.br/sadpPush/ExibirDadosProcesso.do?nprot=1151382016&comboTribunal=pr\n"
     ]
    }
   ],
   "source": [
    "# criar link para raspar documentos\n",
    "links = [\n",
    "    f'http://inter03.tse.jus.br/sadpPush/ExibirDadosProcesso.do?' \\\n",
    "    f'nprot={nprot}&comboTribunal=pr' \\\n",
    "    for nprot in amostra_pr['NR_PROTOCOLO_CANDIDATURA'].to_list()\n",
    "]\n",
    "\n",
    "# disponibilizar os links para a gente\n",
    "for link in links: \n",
    "    print(link)"
   ]
  },
  {
   "cell_type": "markdown",
   "metadata": {},
   "source": [
    "## Baixar e processar os dados"
   ]
  },
  {
   "cell_type": "code",
   "execution_count": 15,
   "metadata": {},
   "outputs": [],
   "source": [
    "# usar módulo externo"
   ]
  },
  {
   "cell_type": "code",
   "execution_count": 16,
   "metadata": {},
   "outputs": [],
   "source": [
    "# importar meu pacote de análise\n",
    "from tse import parser"
   ]
  },
  {
   "cell_type": "code",
   "execution_count": 17,
   "metadata": {},
   "outputs": [],
   "source": [
    "# construir path para os arquivos\n",
    "decisões = [f'../dados/decisão_{i}.html' for i in range(0, 10)]"
   ]
  },
  {
   "cell_type": "code",
   "execution_count": 18,
   "metadata": {},
   "outputs": [],
   "source": [
    "# definir função para transformar os dados do sumário em tabela\n",
    "def tabelar_sumário(decisão, transpor=True):\n",
    "    sumário = pd.DataFrame(parser(decisão).parse_summary())\n",
    "    if transpor: \n",
    "        sumário = sumário.T\n",
    "    return sumário"
   ]
  },
  {
   "cell_type": "code",
   "execution_count": 19,
   "metadata": {},
   "outputs": [
    {
     "data": {
      "text/html": [
       "<div>\n",
       "<style scoped>\n",
       "    .dataframe tbody tr th:only-of-type {\n",
       "        vertical-align: middle;\n",
       "    }\n",
       "\n",
       "    .dataframe tbody tr th {\n",
       "        vertical-align: top;\n",
       "    }\n",
       "\n",
       "    .dataframe thead th {\n",
       "        text-align: right;\n",
       "    }\n",
       "</style>\n",
       "<table border=\"1\" class=\"dataframe\">\n",
       "  <thead>\n",
       "    <tr style=\"text-align: right;\">\n",
       "      <th></th>\n",
       "      <th>0</th>\n",
       "    </tr>\n",
       "  </thead>\n",
       "  <tbody>\n",
       "    <tr>\n",
       "      <th>case</th>\n",
       "      <td>Nº 0000299-72.2016.6.16.0127 - REGISTRO DE CAN...</td>\n",
       "    </tr>\n",
       "    <tr>\n",
       "      <th>town</th>\n",
       "      <td>NOVA OLÍMPIA-PRN.° Origem:</td>\n",
       "    </tr>\n",
       "    <tr>\n",
       "      <th>prot</th>\n",
       "      <td>1225872016 - 15/08/2016 18:13</td>\n",
       "    </tr>\n",
       "    <tr>\n",
       "      <th>claimants</th>\n",
       "      <td>COLIGAÇÃO GOVERNANDO COM O POVO (PMDB / PSC / ...</td>\n",
       "    </tr>\n",
       "    <tr>\n",
       "      <th>defendant</th>\n",
       "      <td>VERA ILSA BALDUINO DA SILVA, CARGO VEREADOR, N...</td>\n",
       "    </tr>\n",
       "    <tr>\n",
       "      <th>judge</th>\n",
       "      <td>FERNANDA BATISTA DORNELLES</td>\n",
       "    </tr>\n",
       "    <tr>\n",
       "      <th>subject</th>\n",
       "      <td>DIREITO ELEITORAL - Eleições - Candidatos - Re...</td>\n",
       "    </tr>\n",
       "    <tr>\n",
       "      <th>district</th>\n",
       "      <td>127ZE-127 ZONA ELEITORAL</td>\n",
       "    </tr>\n",
       "    <tr>\n",
       "      <th>stage</th>\n",
       "      <td>09/02/2017 12:21-Arquivado na seção</td>\n",
       "    </tr>\n",
       "  </tbody>\n",
       "</table>\n",
       "</div>"
      ],
      "text/plain": [
       "                                                           0\n",
       "case       Nº 0000299-72.2016.6.16.0127 - REGISTRO DE CAN...\n",
       "town                              NOVA OLÍMPIA-PRN.° Origem:\n",
       "prot                           1225872016 - 15/08/2016 18:13\n",
       "claimants  COLIGAÇÃO GOVERNANDO COM O POVO (PMDB / PSC / ...\n",
       "defendant  VERA ILSA BALDUINO DA SILVA, CARGO VEREADOR, N...\n",
       "judge                             FERNANDA BATISTA DORNELLES\n",
       "subject    DIREITO ELEITORAL - Eleições - Candidatos - Re...\n",
       "district                            127ZE-127 ZONA ELEITORAL\n",
       "stage                    09/02/2017 12:21-Arquivado na seção"
      ]
     },
     "execution_count": 19,
     "metadata": {},
     "output_type": "execute_result"
    }
   ],
   "source": [
    "# produzir tabela\n",
    "tabelar_sumário(decisões[1])"
   ]
  },
  {
   "cell_type": "code",
   "execution_count": 20,
   "metadata": {},
   "outputs": [
    {
     "data": {
      "text/html": [
       "<div>\n",
       "<style scoped>\n",
       "    .dataframe tbody tr th:only-of-type {\n",
       "        vertical-align: middle;\n",
       "    }\n",
       "\n",
       "    .dataframe tbody tr th {\n",
       "        vertical-align: top;\n",
       "    }\n",
       "\n",
       "    .dataframe thead th {\n",
       "        text-align: right;\n",
       "    }\n",
       "</style>\n",
       "<table border=\"1\" class=\"dataframe\">\n",
       "  <thead>\n",
       "    <tr style=\"text-align: right;\">\n",
       "      <th></th>\n",
       "      <th>case</th>\n",
       "      <th>town</th>\n",
       "      <th>prot</th>\n",
       "      <th>claimants</th>\n",
       "      <th>defendant</th>\n",
       "      <th>judge</th>\n",
       "      <th>subject</th>\n",
       "      <th>district</th>\n",
       "      <th>stage</th>\n",
       "    </tr>\n",
       "  </thead>\n",
       "  <tbody>\n",
       "    <tr>\n",
       "      <th>0</th>\n",
       "      <td>Nº 0000304-61.2016.6.16.0041 - REGISTRO DE CAN...</td>\n",
       "      <td>LONDRINA-PRN.° Origem:</td>\n",
       "      <td>1194392016 - 15/08/2016 17:09</td>\n",
       "      <td>COLIGAÇÃO LONDRINA PRA FRENTE (PP / PTB)</td>\n",
       "      <td>MAURICIO QUIMENTON COSTA, CARGO VEREADOR, Nº: ...</td>\n",
       "      <td>MATHEUS ORLANDI MENDES</td>\n",
       "      <td>DIREITO ELEITORAL - Eleições - Candidatos - Re...</td>\n",
       "      <td>041ZE-041 ZONA ELEITORAL</td>\n",
       "      <td>25/09/2016 15:56-Arquivado na seção</td>\n",
       "    </tr>\n",
       "    <tr>\n",
       "      <th>1</th>\n",
       "      <td>Nº 0000299-72.2016.6.16.0127 - REGISTRO DE CAN...</td>\n",
       "      <td>NOVA OLÍMPIA-PRN.° Origem:</td>\n",
       "      <td>1225872016 - 15/08/2016 18:13</td>\n",
       "      <td>COLIGAÇÃO GOVERNANDO COM O POVO (PMDB / PSC / ...</td>\n",
       "      <td>VERA ILSA BALDUINO DA SILVA, CARGO VEREADOR, N...</td>\n",
       "      <td>FERNANDA BATISTA DORNELLES</td>\n",
       "      <td>DIREITO ELEITORAL - Eleições - Candidatos - Re...</td>\n",
       "      <td>127ZE-127 ZONA ELEITORAL</td>\n",
       "      <td>09/02/2017 12:21-Arquivado na seção</td>\n",
       "    </tr>\n",
       "    <tr>\n",
       "      <th>2</th>\n",
       "      <td>Nº 0000050-36.2016.6.16.0123 - REGISTRO DE CAN...</td>\n",
       "      <td>SÃO JORGE DO PATROCÍNIO-PRN.° Origem:</td>\n",
       "      <td>1013362016 - 12/08/2016 18:24</td>\n",
       "      <td>COLIGAÇÃO PSD, PP, PTN (PSD / PP / PTN)</td>\n",
       "      <td>FERNANDO DANIEL SCHMITD, CARGO VEREADOR, Nº: 5...</td>\n",
       "      <td>GUILHERME ARANDA CASTRO DOS SANTOS</td>\n",
       "      <td>DIREITO ELEITORAL - Eleições - Candidatos - Re...</td>\n",
       "      <td>123ZE-123 ZONA ELEITORAL</td>\n",
       "      <td>23/11/2016 12:10-Arquivado na seção</td>\n",
       "    </tr>\n",
       "    <tr>\n",
       "      <th>3</th>\n",
       "      <td>Nº 0000161-14.2016.6.16.0028 - REGISTRO DE CAN...</td>\n",
       "      <td>APUCARANA-PRN.° Origem:</td>\n",
       "      <td>1134682016 - 15/08/2016 14:58</td>\n",
       "      <td>COLIGAÇÃO PTB-PMDB-PPS (PTB / PMDB / PPS), COL...</td>\n",
       "      <td>JUÍZO ELEITORAL DA 28ª ZONA, TRE-PR</td>\n",
       "      <td>RENATA BOLZAN JAURIS</td>\n",
       "      <td>DIREITO ELEITORAL - Eleições - Candidatos - Re...</td>\n",
       "      <td>028ZE-028 ZONA ELEITORAL</td>\n",
       "      <td>20/03/2017 16:41-Arquivado na seção</td>\n",
       "    </tr>\n",
       "    <tr>\n",
       "      <th>4</th>\n",
       "      <td>Nº 0000186-20.2016.6.16.0095 - REGISTRO DE CAN...</td>\n",
       "      <td>COLORADO-PRN.° Origem:</td>\n",
       "      <td>1065522016 - 15/08/2016 12:32</td>\n",
       "      <td>COLIGAÇÃO JUNTOS POR COLORADO (PPL / PT DO B /...</td>\n",
       "      <td>LEANDRO PIRES DA SILVA, CARGO VEREADOR, Nº: 54000</td>\n",
       "      <td>LUCIANA PAULA KULEVICZ</td>\n",
       "      <td>DIREITO ELEITORAL - Eleições - Candidatos - Re...</td>\n",
       "      <td>095ZE-095 ZONA ELEITORAL</td>\n",
       "      <td>07/03/2017 17:30-Arquivado na seção</td>\n",
       "    </tr>\n",
       "    <tr>\n",
       "      <th>5</th>\n",
       "      <td>Nº 0000280-70.2016.6.16.0061 - REGISTRO DE CAN...</td>\n",
       "      <td>ARAPONGAS-PRN.° Origem:</td>\n",
       "      <td>1182182016 - 15/08/2016 16:37</td>\n",
       "      <td>COLIGAÇÃO PP E SD (PP / SD)</td>\n",
       "      <td>JOSE MARIA DA SILVA, CARGO VEREADOR, Nº: 11611</td>\n",
       "      <td>RENATA MARIA FERNANDES SASSI FANTIN</td>\n",
       "      <td>DIREITO ELEITORAL - Eleições - Candidatos - Re...</td>\n",
       "      <td>061ZE-061 ZONA ELEITORAL</td>\n",
       "      <td>14/03/2017 17:44-Arquivado na seção</td>\n",
       "    </tr>\n",
       "    <tr>\n",
       "      <th>6</th>\n",
       "      <td>Nº 0000180-76.2016.6.16.0074 - REGISTRO DE CAN...</td>\n",
       "      <td>PEABIRU-PRN.° Origem:</td>\n",
       "      <td>1247862016 - 15/08/2016 18:54</td>\n",
       "      <td>COLIGAÇÃO PSB - PDT - PEN - PT DO B - PSC - PR...</td>\n",
       "      <td>JOSINEL PEZINI DOS SANTOS, CARGO VEREADOR, Nº:...</td>\n",
       "      <td>PAULO EDUARDO MARQUES PEQUITO</td>\n",
       "      <td>DIREITO ELEITORAL - Eleições - Candidatos - Re...</td>\n",
       "      <td>074ZE-074 ZONA ELEITORAL</td>\n",
       "      <td>19/05/2020 18:50-Certidão</td>\n",
       "    </tr>\n",
       "    <tr>\n",
       "      <th>7</th>\n",
       "      <td>Nº 0000259-85.2016.6.16.0161 - REGISTRO DE CAN...</td>\n",
       "      <td>GUARATUBA-PRN.° Origem:</td>\n",
       "      <td>1969862016 - 12/09/2016 17:54</td>\n",
       "      <td>COLIGAÇÃO GUARATUBA MAIS HUMANA (PMDB / PT)</td>\n",
       "      <td>MARIA NEUSA DE LIMA, CARGO VEREADOR, Nº: 13321</td>\n",
       "      <td>GIOVANNA DE SÁ RECHIA</td>\n",
       "      <td>DIREITO ELEITORAL - Eleições - Candidatos - Re...</td>\n",
       "      <td>161ZE-161 ZONA ELEITORAL</td>\n",
       "      <td>13/04/2017 16:35-Arquivado na seção</td>\n",
       "    </tr>\n",
       "    <tr>\n",
       "      <th>8</th>\n",
       "      <td>Nº 0000271-55.2016.6.16.0111 - REGISTRO DE CAN...</td>\n",
       "      <td>TELÊMACO BORBA-PRN.° Origem:</td>\n",
       "      <td>1211272016 - 15/08/2016 17:44</td>\n",
       "      <td>COLIGAÇÃO JUNTOS POR TELÊMACO BORBA (PMB / PSD...</td>\n",
       "      <td>VINICIUS RIBEIRO RAMOS, CARGO VEREADOR, Nº: 45000</td>\n",
       "      <td>MARCELO FURLANETTO DA FONSECA</td>\n",
       "      <td>DIREITO ELEITORAL - Eleições - Candidatos - Re...</td>\n",
       "      <td>111ZE-111 ZONA ELEITORAL</td>\n",
       "      <td>31/03/2017 15:39-Arquivado na seção</td>\n",
       "    </tr>\n",
       "    <tr>\n",
       "      <th>9</th>\n",
       "      <td>Nº 0000186-10.2016.6.16.0163 - REGISTRO DE CAN...</td>\n",
       "      <td>QUEDAS DO IGUAÇU-PRN.° Origem:</td>\n",
       "      <td>1151382016 - 15/08/2016 15:27</td>\n",
       "      <td>COLIGAÇÃO A FORÇA QUE VEM DO POVO (PMDB / PDT ...</td>\n",
       "      <td>PAULA TERESINHA REVERS, CARGO VEREADOR, Nº: 27555</td>\n",
       "      <td>PAULA CHEDID MAGALHÃES</td>\n",
       "      <td>DIREITO ELEITORAL - Eleições - Candidatos - Re...</td>\n",
       "      <td>163ZE-163 ZONA ELEITORAL</td>\n",
       "      <td>14/03/2017 16:46-Arquivado na seção</td>\n",
       "    </tr>\n",
       "  </tbody>\n",
       "</table>\n",
       "</div>"
      ],
      "text/plain": [
       "                                                case  \\\n",
       "0  Nº 0000304-61.2016.6.16.0041 - REGISTRO DE CAN...   \n",
       "1  Nº 0000299-72.2016.6.16.0127 - REGISTRO DE CAN...   \n",
       "2  Nº 0000050-36.2016.6.16.0123 - REGISTRO DE CAN...   \n",
       "3  Nº 0000161-14.2016.6.16.0028 - REGISTRO DE CAN...   \n",
       "4  Nº 0000186-20.2016.6.16.0095 - REGISTRO DE CAN...   \n",
       "5  Nº 0000280-70.2016.6.16.0061 - REGISTRO DE CAN...   \n",
       "6  Nº 0000180-76.2016.6.16.0074 - REGISTRO DE CAN...   \n",
       "7  Nº 0000259-85.2016.6.16.0161 - REGISTRO DE CAN...   \n",
       "8  Nº 0000271-55.2016.6.16.0111 - REGISTRO DE CAN...   \n",
       "9  Nº 0000186-10.2016.6.16.0163 - REGISTRO DE CAN...   \n",
       "\n",
       "                                    town                           prot  \\\n",
       "0                 LONDRINA-PRN.° Origem:  1194392016 - 15/08/2016 17:09   \n",
       "1             NOVA OLÍMPIA-PRN.° Origem:  1225872016 - 15/08/2016 18:13   \n",
       "2  SÃO JORGE DO PATROCÍNIO-PRN.° Origem:  1013362016 - 12/08/2016 18:24   \n",
       "3                APUCARANA-PRN.° Origem:  1134682016 - 15/08/2016 14:58   \n",
       "4                 COLORADO-PRN.° Origem:  1065522016 - 15/08/2016 12:32   \n",
       "5                ARAPONGAS-PRN.° Origem:  1182182016 - 15/08/2016 16:37   \n",
       "6                  PEABIRU-PRN.° Origem:  1247862016 - 15/08/2016 18:54   \n",
       "7                GUARATUBA-PRN.° Origem:  1969862016 - 12/09/2016 17:54   \n",
       "8           TELÊMACO BORBA-PRN.° Origem:  1211272016 - 15/08/2016 17:44   \n",
       "9         QUEDAS DO IGUAÇU-PRN.° Origem:  1151382016 - 15/08/2016 15:27   \n",
       "\n",
       "                                           claimants  \\\n",
       "0           COLIGAÇÃO LONDRINA PRA FRENTE (PP / PTB)   \n",
       "1  COLIGAÇÃO GOVERNANDO COM O POVO (PMDB / PSC / ...   \n",
       "2            COLIGAÇÃO PSD, PP, PTN (PSD / PP / PTN)   \n",
       "3  COLIGAÇÃO PTB-PMDB-PPS (PTB / PMDB / PPS), COL...   \n",
       "4  COLIGAÇÃO JUNTOS POR COLORADO (PPL / PT DO B /...   \n",
       "5                        COLIGAÇÃO PP E SD (PP / SD)   \n",
       "6  COLIGAÇÃO PSB - PDT - PEN - PT DO B - PSC - PR...   \n",
       "7        COLIGAÇÃO GUARATUBA MAIS HUMANA (PMDB / PT)   \n",
       "8  COLIGAÇÃO JUNTOS POR TELÊMACO BORBA (PMB / PSD...   \n",
       "9  COLIGAÇÃO A FORÇA QUE VEM DO POVO (PMDB / PDT ...   \n",
       "\n",
       "                                           defendant  \\\n",
       "0  MAURICIO QUIMENTON COSTA, CARGO VEREADOR, Nº: ...   \n",
       "1  VERA ILSA BALDUINO DA SILVA, CARGO VEREADOR, N...   \n",
       "2  FERNANDO DANIEL SCHMITD, CARGO VEREADOR, Nº: 5...   \n",
       "3                JUÍZO ELEITORAL DA 28ª ZONA, TRE-PR   \n",
       "4  LEANDRO PIRES DA SILVA, CARGO VEREADOR, Nº: 54000   \n",
       "5     JOSE MARIA DA SILVA, CARGO VEREADOR, Nº: 11611   \n",
       "6  JOSINEL PEZINI DOS SANTOS, CARGO VEREADOR, Nº:...   \n",
       "7     MARIA NEUSA DE LIMA, CARGO VEREADOR, Nº: 13321   \n",
       "8  VINICIUS RIBEIRO RAMOS, CARGO VEREADOR, Nº: 45000   \n",
       "9  PAULA TERESINHA REVERS, CARGO VEREADOR, Nº: 27555   \n",
       "\n",
       "                                 judge  \\\n",
       "0               MATHEUS ORLANDI MENDES   \n",
       "1           FERNANDA BATISTA DORNELLES   \n",
       "2   GUILHERME ARANDA CASTRO DOS SANTOS   \n",
       "3                 RENATA BOLZAN JAURIS   \n",
       "4               LUCIANA PAULA KULEVICZ   \n",
       "5  RENATA MARIA FERNANDES SASSI FANTIN   \n",
       "6        PAULO EDUARDO MARQUES PEQUITO   \n",
       "7                GIOVANNA DE SÁ RECHIA   \n",
       "8        MARCELO FURLANETTO DA FONSECA   \n",
       "9               PAULA CHEDID MAGALHÃES   \n",
       "\n",
       "                                             subject  \\\n",
       "0  DIREITO ELEITORAL - Eleições - Candidatos - Re...   \n",
       "1  DIREITO ELEITORAL - Eleições - Candidatos - Re...   \n",
       "2  DIREITO ELEITORAL - Eleições - Candidatos - Re...   \n",
       "3  DIREITO ELEITORAL - Eleições - Candidatos - Re...   \n",
       "4  DIREITO ELEITORAL - Eleições - Candidatos - Re...   \n",
       "5  DIREITO ELEITORAL - Eleições - Candidatos - Re...   \n",
       "6  DIREITO ELEITORAL - Eleições - Candidatos - Re...   \n",
       "7  DIREITO ELEITORAL - Eleições - Candidatos - Re...   \n",
       "8  DIREITO ELEITORAL - Eleições - Candidatos - Re...   \n",
       "9  DIREITO ELEITORAL - Eleições - Candidatos - Re...   \n",
       "\n",
       "                   district                                stage  \n",
       "0  041ZE-041 ZONA ELEITORAL  25/09/2016 15:56-Arquivado na seção  \n",
       "1  127ZE-127 ZONA ELEITORAL  09/02/2017 12:21-Arquivado na seção  \n",
       "2  123ZE-123 ZONA ELEITORAL  23/11/2016 12:10-Arquivado na seção  \n",
       "3  028ZE-028 ZONA ELEITORAL  20/03/2017 16:41-Arquivado na seção  \n",
       "4  095ZE-095 ZONA ELEITORAL  07/03/2017 17:30-Arquivado na seção  \n",
       "5  061ZE-061 ZONA ELEITORAL  14/03/2017 17:44-Arquivado na seção  \n",
       "6  074ZE-074 ZONA ELEITORAL            19/05/2020 18:50-Certidão  \n",
       "7  161ZE-161 ZONA ELEITORAL  13/04/2017 16:35-Arquivado na seção  \n",
       "8  111ZE-111 ZONA ELEITORAL  31/03/2017 15:39-Arquivado na seção  \n",
       "9  163ZE-163 ZONA ELEITORAL  14/03/2017 16:46-Arquivado na seção  "
      ]
     },
     "execution_count": 20,
     "metadata": {},
     "output_type": "execute_result"
    }
   ],
   "source": [
    "# criar banco de dados\n",
    "sumários = pd.concat([tabelar_sumário(decisão, False) for decisão in decisões], ignore_index=True)\n",
    "sumários"
   ]
  },
  {
   "cell_type": "code",
   "execution_count": 21,
   "metadata": {},
   "outputs": [
    {
     "data": {
      "text/plain": [
       "0    041ZE-041 ZONA ELEITORAL\n",
       "1    127ZE-127 ZONA ELEITORAL\n",
       "2    123ZE-123 ZONA ELEITORAL\n",
       "3    028ZE-028 ZONA ELEITORAL\n",
       "4    095ZE-095 ZONA ELEITORAL\n",
       "5    061ZE-061 ZONA ELEITORAL\n",
       "6    074ZE-074 ZONA ELEITORAL\n",
       "7    161ZE-161 ZONA ELEITORAL\n",
       "8    111ZE-111 ZONA ELEITORAL\n",
       "9    163ZE-163 ZONA ELEITORAL\n",
       "Name: district, dtype: object"
      ]
     },
     "execution_count": 21,
     "metadata": {},
     "output_type": "execute_result"
    }
   ],
   "source": [
    "# onde estão estes processos? nas seguintes zonas eleitorais\n",
    "sumários['district']"
   ]
  },
  {
   "cell_type": "markdown",
   "metadata": {},
   "source": [
    "## Parte 3: Processamento de Linguagem Natural (NLP)"
   ]
  },
  {
   "cell_type": "code",
   "execution_count": null,
   "metadata": {},
   "outputs": [],
   "source": [
    "# importar pacotes\n",
    "import spacy\n",
    "from bs4 import BeautifulSoup\n",
    "\n",
    "# criar ferramentas de análise de texto\n",
    "nlp_en = spacy.load('en_core_web_sm')\n",
    "nlp_pt = spacy.load('pt_core_news_sm')"
   ]
  },
  {
   "cell_type": "markdown",
   "metadata": {},
   "source": [
    "### Exemplo Genérico"
   ]
  },
  {
   "cell_type": "code",
   "execution_count": null,
   "metadata": {},
   "outputs": [],
   "source": [
    "# definir função que baixa uma reportagem de jornal\n",
    "def baixar_reportagem():\n",
    "    URL = 'https://www.nytimes.com/2020/05/12/well/family/coronavirus-children-covid-19.html'\n",
    "    r = requests.get(URL)\n",
    "    soup = BeautifulSoup(r.content)\n",
    "    text = soup.find('section', attrs={'name': 'articleBody'}).get_text()\n",
    "    text = re.sub(r'(”|“)(?![A-z])', r'\\1 ', text)\n",
    "    text = re.sub(r' +', ' ', text)\n",
    "    return text"
   ]
  },
  {
   "cell_type": "code",
   "execution_count": null,
   "metadata": {},
   "outputs": [],
   "source": [
    "# baixar reportagem do NYTimes\n",
    "baixar_reportagem()"
   ]
  },
  {
   "cell_type": "code",
   "execution_count": null,
   "metadata": {},
   "outputs": [],
   "source": [
    "# salvar texto\n",
    "texto = baixar_reportagem()"
   ]
  },
  {
   "cell_type": "code",
   "execution_count": null,
   "metadata": {},
   "outputs": [],
   "source": [
    "# processar o texto\n",
    "doc_en = nlp_en(texto)"
   ]
  },
  {
   "cell_type": "code",
   "execution_count": null,
   "metadata": {},
   "outputs": [],
   "source": [
    "# contar o número de frases\n",
    "frases = list(doc_en.sents)\n",
    "len(frases)"
   ]
  },
  {
   "cell_type": "code",
   "execution_count": null,
   "metadata": {},
   "outputs": [],
   "source": [
    "# mostrar uma frase qualquer\n",
    "frases[17]"
   ]
  },
  {
   "cell_type": "code",
   "execution_count": null,
   "metadata": {},
   "outputs": [],
   "source": [
    "# definir função para investigar o conteúdo de uma frase\n",
    "def investigar_frase(frase):\n",
    "    resultado = [{'token': ent.text, 'tipo': ent.label_ , 'descrição': spacy.explain(ent.label_)} for ent in frase.ents]\n",
    "    return pd.DataFrame(resultado)"
   ]
  },
  {
   "cell_type": "code",
   "execution_count": null,
   "metadata": {},
   "outputs": [],
   "source": [
    "# testar reconhecimento do texto\n",
    "print(f'{frases[17]}\\n\\n{investigar_frase(frases[17])}')"
   ]
  },
  {
   "cell_type": "code",
   "execution_count": null,
   "metadata": {},
   "outputs": [],
   "source": [
    "# testar reconhecimento do texto\n",
    "print(f'{frases[38]}\\n\\n{investigar_frase(frases[38])}')"
   ]
  },
  {
   "cell_type": "markdown",
   "metadata": {},
   "source": [
    "### Exemplo Real"
   ]
  },
  {
   "cell_type": "code",
   "execution_count": null,
   "metadata": {},
   "outputs": [],
   "source": [
    "# abrir uma coletânea de decisões judiciais dentre todas\n",
    "decisão = pd.DataFrame(parser(decisões[1]).parse_details())\n",
    "decisão"
   ]
  },
  {
   "cell_type": "code",
   "execution_count": null,
   "metadata": {},
   "outputs": [],
   "source": [
    "# extrair texto da decisão\n",
    "texto = decisão.loc[3, 'sbody']\n",
    "texto"
   ]
  },
  {
   "cell_type": "markdown",
   "metadata": {},
   "source": [
    "### Mostrar as entidades reconhecidas pelo software nos autos"
   ]
  },
  {
   "cell_type": "code",
   "execution_count": null,
   "metadata": {},
   "outputs": [],
   "source": [
    "# processar o texto \n",
    "doc_pt = nlp_pt(texto)"
   ]
  },
  {
   "cell_type": "code",
   "execution_count": null,
   "metadata": {},
   "outputs": [],
   "source": [
    "# transformar em frases\n",
    "frases = list(doc_pt.sents)"
   ]
  },
  {
   "cell_type": "code",
   "execution_count": null,
   "metadata": {},
   "outputs": [],
   "source": [
    "# imprimir as entidades reconhecidas pela nossa ferramenta\n",
    "pd.concat([pd.DataFrame(investigar_frase(frase)) for frase in frases])"
   ]
  },
  {
   "cell_type": "markdown",
   "metadata": {},
   "source": [
    "### Análise Sintática"
   ]
  },
  {
   "cell_type": "code",
   "execution_count": null,
   "metadata": {},
   "outputs": [],
   "source": [
    "# fazer análise sintática do texto\n",
    "frase = str(frases[-3])\n",
    "frase = nlp_pt(frase)"
   ]
  },
  {
   "cell_type": "code",
   "execution_count": null,
   "metadata": {},
   "outputs": [],
   "source": [
    "# interpretar a frase mais detalhadamente\n",
    "pd.DataFrame([\n",
    "    {'token': token.text, 'classe gramatical': token.pos_, 'descrição': spacy.explain(token.pos_)}\n",
    "    for token in frase\n",
    "])"
   ]
  },
  {
   "cell_type": "code",
   "execution_count": null,
   "metadata": {},
   "outputs": [],
   "source": [
    "spacy.displacy.render(frase, jupyter=True, style='dep', options={'compact': True})"
   ]
  },
  {
   "cell_type": "markdown",
   "metadata": {},
   "source": [
    "### Destacar as entidades no texto"
   ]
  },
  {
   "cell_type": "code",
   "execution_count": null,
   "metadata": {},
   "outputs": [],
   "source": [
    "# mostrar as entidades na frase\n",
    "colors = {'ORG': 'linear-gradient(90deg, #aa9cfc, #fc9ce7)'}\n",
    "options = {'ents': 'ORG', 'colors': colors}\n",
    "spacy.displacy.render(frase, jupyter=True, style='ent', options=options)"
   ]
  }
 ],
 "metadata": {
  "kernelspec": {
   "display_name": "Python [conda env:root] *",
   "language": "python",
   "name": "conda-root-py"
  },
  "language_info": {
   "codemirror_mode": {
    "name": "ipython",
    "version": 3
   },
   "file_extension": ".py",
   "mimetype": "text/x-python",
   "name": "python",
   "nbconvert_exporter": "python",
   "pygments_lexer": "ipython3",
   "version": "3.7.7"
  }
 },
 "nbformat": 4,
 "nbformat_minor": 4
}
