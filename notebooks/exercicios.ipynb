{
 "cells": [
  {
   "cell_type": "markdown",
   "metadata": {},
   "source": [
    "# Parte 1: Utilidade"
   ]
  },
  {
   "cell_type": "markdown",
   "metadata": {},
   "source": [
    "## Importar os pacotes necessários"
   ]
  },
  {
   "cell_type": "code",
   "execution_count": null,
   "metadata": {},
   "outputs": [],
   "source": [
    "# importar os pacotes necessários para fazer análise\n",
    "import pandas as pd, numpy as np\n",
    "import os, re\n",
    "import requests\n",
    "import zipfile"
   ]
  },
  {
   "cell_type": "markdown",
   "metadata": {},
   "source": [
    "## Definir funções para processar os dados"
   ]
  },
  {
   "cell_type": "code",
   "execution_count": null,
   "metadata": {},
   "outputs": [],
   "source": [
    "# definir função que baixa os dados\n",
    "def baixar_tse():\n",
    "    URL = 'http://agencia.tse.jus.br/estatistica/sead/odsele/motivo_cassacao/motivo_cassacao_2016.zip'\n",
    "    r = requests.get(URL)\n",
    "    with open('../dados/motivo_cassacao2016.zip', 'wb') as arquivo:\n",
    "        arquivo.write(r.content)\n",
    "    return 'Motivo(s) para Indeferimento 2016 baixado(s) com sucesso.'\n",
    "\n",
    "# definir função de descomprime arquivo do tse\n",
    "def unzip_tse():\n",
    "    with zipfile.ZipFile('../dados/motivo_cassacao2016.zip', 'r') as zip:\n",
    "        zip.extractall('../dados')\n",
    "    return 'Arquivo(s) descomprimido(s) com sucesso.'\n",
    "\n",
    "# definir função para juntar os dados do tse\n",
    "def juntar_tse():\n",
    "\n",
    "    regex = re.compile(r'motivo.*csv$')\n",
    "    juntar_tse.kwargs = {\n",
    "        'engine': 'python', 'encoding': 'latin1', 'sep':';', 'quoting': 1,\n",
    "        'dtype': str\n",
    "    }\n",
    "\n",
    "    arquivos = os.listdir('../dados')\n",
    "    arquivos = list(filter(regex.search, arquivos))\n",
    "    arquivos = [\n",
    "        os.path.join(os.path.realpath('../dados'), arquivo) \\\n",
    "        for arquivo in arquivos\n",
    "    ]\n",
    "\n",
    "    dados = pd.concat(\n",
    "        [pd.read_csv(arquivo, **juntar_tse.kwargs) for arquivo in arquivos],\n",
    "        ignore_index=True\n",
    "    )\n",
    "\n",
    "    dados = dados[dados['DS_MOTIVO_CASSACAO'].notna()]\n",
    "    # dados.drop(dados.columns[-1], axis=1, inplace=True)\n",
    "\n",
    "    print('Arquivo(s) juntado(s) com sucesso.')\n",
    "    return dados"
   ]
  },
  {
   "cell_type": "markdown",
   "metadata": {},
   "source": [
    "## Executar funções"
   ]
  },
  {
   "cell_type": "code",
   "execution_count": null,
   "metadata": {},
   "outputs": [],
   "source": [
    "# executar função\n",
    "baixar_tse()"
   ]
  },
  {
   "cell_type": "code",
   "execution_count": null,
   "metadata": {},
   "outputs": [],
   "source": [
    "# executar função\n",
    "unzip_tse()"
   ]
  },
  {
   "cell_type": "code",
   "execution_count": null,
   "metadata": {},
   "outputs": [],
   "source": [
    "# executar função\n",
    "candidaturas = juntar_tse()"
   ]
  },
  {
   "cell_type": "markdown",
   "metadata": {},
   "source": [
    "## Exibir dados preliminares"
   ]
  },
  {
   "cell_type": "code",
   "execution_count": null,
   "metadata": {},
   "outputs": [],
   "source": [
    "# mostrar os dados\n",
    "candidaturas.sample(10)"
   ]
  },
  {
   "cell_type": "code",
   "execution_count": null,
   "metadata": {},
   "outputs": [],
   "source": [
    "# verificar os motivos para cassação\n",
    "list(candidaturas['DS_MOTIVO_CASSACAO'].unique())"
   ]
  },
  {
   "cell_type": "markdown",
   "metadata": {},
   "source": [
    "## Focar no Paraná"
   ]
  },
  {
   "cell_type": "code",
   "execution_count": null,
   "metadata": {},
   "outputs": [],
   "source": [
    "# focar em 10 candidatos no paraná\n",
    "candidaturas_pr = candidaturas[candidaturas['SG_UF'] == 'PR']\n",
    "amostra = candidaturas_pr.sample(10, random_state=67)\n",
    "amostra.columns"
   ]
  },
  {
   "cell_type": "code",
   "execution_count": null,
   "metadata": {},
   "outputs": [],
   "source": [
    "# vamos achar as documentos processuais?\n",
    "candidatos_pr = pd.read_csv(\n",
    "    '../dados/consulta_cand_2016_PR.csv', **juntar_tse.kwargs\n",
    ")\n",
    "\n",
    "# puxar os números do protocolo da candidatura\n",
    "amostra = amostra.merge(candidatos_pr, on='SQ_CANDIDATO')\n",
    "amostra['NR_PROTOCOLO_CANDIDATURA']"
   ]
  },
  {
   "cell_type": "code",
   "execution_count": null,
   "metadata": {},
   "outputs": [],
   "source": [
    "# criar link para raspar documentos\n",
    "documentos_link = [\n",
    "    f'http://inter03.tse.jus.br/sadpPush/ExibirDadosProcesso.do?' \\\n",
    "    f'nprot={nprot}&comboTribunal=pr' \\\n",
    "    for nprot in amostra['NR_PROTOCOLO_CANDIDATURA'].to_list()\n",
    "]\n",
    "print(documentos_link)"
   ]
  },
  {
   "cell_type": "markdown",
   "metadata": {},
   "source": [
    "## Baixar e processar os dados"
   ]
  },
  {
   "cell_type": "code",
   "execution_count": null,
   "metadata": {},
   "outputs": [],
   "source": [
    "# # baixar os arquivos\n",
    "# raspador = tse.scraper(navegador_automatico.browser)\n",
    "\n",
    "# # baixar todos\n",
    "# for i, url in enumerate(documentos_link):\n",
    "#     raspador.decision(url=url, filename=f'decisão_{i+1}')\n",
    "\n",
    "# # fechar\n",
    "# navegador_automatico.browser.quit()"
   ]
  },
  {
   "cell_type": "code",
   "execution_count": null,
   "metadata": {},
   "outputs": [],
   "source": [
    "# importar meu pacote de análise\n",
    "from tse import parser\n",
    "\n",
    "# construir path para os arquivos\n",
    "decisões = [f'../dados/decisão_{i}.html' for i in range(0, 10)]\n",
    "\n",
    "# transformar em tabela\n",
    "sumário = parser(decisões[1])\n",
    "sumário.parse_summary()\n",
    "pd.DataFrame(sumário.parse_summary()).T"
   ]
  },
  {
   "cell_type": "code",
   "execution_count": null,
   "metadata": {},
   "outputs": [],
   "source": [
    "# criar banco de dados\n",
    "sumários = pd.concat(\n",
    "    [pd.DataFrame(parser(decisão).parse_summary()) for decisão in decisões],\n",
    "    ignore_index=True\n",
    ")\n",
    "print(sumários)"
   ]
  },
  {
   "cell_type": "code",
   "execution_count": null,
   "metadata": {},
   "outputs": [],
   "source": [
    "# onde estão estes processos? nas seguintes zonas eleitorais\n",
    "sumários['district']"
   ]
  },
  {
   "cell_type": "markdown",
   "metadata": {},
   "source": [
    "## Parte 3: Processamento de Linguagem Natural (NLP)"
   ]
  },
  {
   "cell_type": "code",
   "execution_count": null,
   "metadata": {},
   "outputs": [],
   "source": [
    "# importar pacotes\n",
    "import spacy"
   ]
  }
 ],
 "metadata": {
  "kernelspec": {
   "display_name": "Python [conda env:root] *",
   "language": "python",
   "name": "conda-root-py"
  },
  "language_info": {
   "codemirror_mode": {
    "name": "ipython",
    "version": 3
   },
   "file_extension": ".py",
   "mimetype": "text/x-python",
   "name": "python",
   "nbconvert_exporter": "python",
   "pygments_lexer": "ipython3",
   "version": "3.7.7"
  }
 },
 "nbformat": 4,
 "nbformat_minor": 4
}
