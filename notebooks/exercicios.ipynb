{
 "cells": [
  {
   "cell_type": "markdown",
   "metadata": {},
   "source": [
    "# Parte 1: Utilidade"
   ]
  },
  {
   "cell_type": "markdown",
   "metadata": {},
   "source": [
    "## Importar os pacotes necessários"
   ]
  },
  {
   "cell_type": "code",
   "execution_count": 4,
   "metadata": {},
   "outputs": [],
   "source": [
    "# importar os pacotes necessários para fazer análise\n",
    "import pandas as pd, numpy as np\n",
    "import os, re\n",
    "import requests\n",
    "import zipfile"
   ]
  },
  {
   "cell_type": "markdown",
   "metadata": {},
   "source": [
    "## Definir funções para processar os dados"
   ]
  },
  {
   "cell_type": "code",
   "execution_count": null,
   "metadata": {},
   "outputs": [],
   "source": [
    "# definir função que baixa os dados\n",
    "def baixar_tse():\n",
    "    URL = 'http://agencia.tse.jus.br/estatistica/sead/odsele/motivo_cassacao/motivo_cassacao_2016.zip'\n",
    "    r = requests.get(URL)\n",
    "    with open('../dados/motivo_cassacao2016.zip', 'wb') as arquivo:\n",
    "        arquivo.write(r.content)\n",
    "    return 'Motivo(s) para Indeferimento 2016 baixado(s) com sucesso.'\n",
    "\n",
    "# definir função de descomprime arquivo do tse\n",
    "def unzip_tse():\n",
    "    with zipfile.ZipFile('../dados/motivo_cassacao2016.zip', 'r') as zip:\n",
    "        zip.extractall('../dados')\n",
    "    return 'Arquivo(s) descomprimido(s) com sucesso.'\n",
    "\n",
    "# definir função para juntar os dados do tse\n",
    "def juntar_tse():\n",
    "    regex = re.compile(r'motivo.*csv$')\n",
    "    juntar_tse.kwargs = {\n",
    "        'engine': 'python', 'encoding': 'latin1', 'sep':';', 'quoting': 1,\n",
    "        'dtype': str\n",
    "    }\n",
    "    arquivos = os.listdir('../dados')\n",
    "    arquivos = list(filter(regex.search, arquivos))\n",
    "    arquivos = [\n",
    "        os.path.join(os.path.realpath('../dados'), arquivo) \\\n",
    "        for arquivo in arquivos\n",
    "    ]\n",
    "    dados = pd.concat(\n",
    "        [pd.read_csv(arquivo, **juntar_tse.kwargs) for arquivo in arquivos],\n",
    "        ignore_index=True\n",
    "    )\n",
    "    dados = dados[dados['DS_MOTIVO_CASSACAO'].notna()]\n",
    "    print('Arquivo(s) juntado(s) com sucesso.')\n",
    "    return dados"
   ]
  },
  {
   "cell_type": "markdown",
   "metadata": {},
   "source": [
    "## Executar funções"
   ]
  },
  {
   "cell_type": "code",
   "execution_count": null,
   "metadata": {},
   "outputs": [],
   "source": [
    "# executar função\n",
    "baixar_tse()"
   ]
  },
  {
   "cell_type": "code",
   "execution_count": null,
   "metadata": {},
   "outputs": [],
   "source": [
    "# executar função\n",
    "unzip_tse()"
   ]
  },
  {
   "cell_type": "code",
   "execution_count": null,
   "metadata": {},
   "outputs": [],
   "source": [
    "# executar função e salvar o resultado no banco de dados chamado \"candidaturas\"\n",
    "candidaturas = juntar_tse()"
   ]
  },
  {
   "cell_type": "markdown",
   "metadata": {},
   "source": [
    "## Exibir dados preliminares"
   ]
  },
  {
   "cell_type": "code",
   "execution_count": null,
   "metadata": {},
   "outputs": [],
   "source": [
    "# mostrar os dados\n",
    "candidaturas.sample(10)"
   ]
  },
  {
   "cell_type": "code",
   "execution_count": null,
   "metadata": {},
   "outputs": [],
   "source": [
    "# verificar os motivos para cassação\n",
    "list(candidaturas['DS_MOTIVO_CASSACAO'].unique())"
   ]
  },
  {
   "cell_type": "markdown",
   "metadata": {},
   "source": [
    "## Focar no Paraná"
   ]
  },
  {
   "cell_type": "code",
   "execution_count": null,
   "metadata": {},
   "outputs": [],
   "source": [
    "# focar em 10 candidatos no paraná\n",
    "amostra_pr = candidaturas[candidaturas['SG_UF'] == 'PR'].sample(10, random_state=67)"
   ]
  },
  {
   "cell_type": "code",
   "execution_count": null,
   "metadata": {},
   "outputs": [],
   "source": [
    "# mostrar quais informações nós obtivemos\n",
    "amostra_pr.columns.to_list()"
   ]
  },
  {
   "cell_type": "code",
   "execution_count": null,
   "metadata": {},
   "outputs": [],
   "source": [
    "# juntar os motivos de cassação com outros dados dos candidatos?\n",
    "candidatos_pr = pd.read_csv('../dados/consulta_cand_2016_PR.csv', **juntar_tse.kwargs)"
   ]
  },
  {
   "cell_type": "code",
   "execution_count": null,
   "metadata": {},
   "outputs": [],
   "source": [
    "# puxar os números do protocolo da candidatura\n",
    "amostra_pr = amostra_pr.merge(candidatos_pr, on='SQ_CANDIDATO')"
   ]
  },
  {
   "cell_type": "code",
   "execution_count": null,
   "metadata": {},
   "outputs": [],
   "source": [
    "# disponibilizar na tela os números dos protocolos de candidatura\n",
    "# amostra_pr.columns\n",
    "amostra_pr[['NM_CANDIDATO', 'NM_UE_x', 'DS_CARGO', 'NR_PROTOCOLO_CANDIDATURA']]"
   ]
  },
  {
   "cell_type": "code",
   "execution_count": null,
   "metadata": {},
   "outputs": [],
   "source": [
    "# criar link para raspar documentos\n",
    "links = [\n",
    "    f'http://inter03.tse.jus.br/sadpPush/ExibirDadosProcesso.do?' \\\n",
    "    f'nprot={nprot}&comboTribunal=pr' \\\n",
    "    for nprot in amostra_pr['NR_PROTOCOLO_CANDIDATURA'].to_list()\n",
    "]\n",
    "\n",
    "# disponibilizar os links para a gente\n",
    "for link in links: \n",
    "    print(link)"
   ]
  },
  {
   "cell_type": "markdown",
   "metadata": {},
   "source": [
    "## Baixar e processar os dados"
   ]
  },
  {
   "cell_type": "code",
   "execution_count": null,
   "metadata": {},
   "outputs": [],
   "source": [
    "# # baixar os arquivos\n",
    "# raspador = tse.scraper(navegador_automatico.browser)\n",
    "\n",
    "# # baixar todos\n",
    "# for i, url in enumerate(documentos_link):\n",
    "#     raspador.decision(url=url, filename=f'decisão_{i+1}')\n",
    "\n",
    "# # fechar\n",
    "# navegador_automatico.browser.quit()"
   ]
  },
  {
   "cell_type": "code",
   "execution_count": 16,
   "metadata": {},
   "outputs": [],
   "source": [
    "# importar meu pacote de análise\n",
    "from tse import parser"
   ]
  },
  {
   "cell_type": "code",
   "execution_count": 18,
   "metadata": {},
   "outputs": [],
   "source": [
    "# construir path para os arquivos\n",
    "decisões = [f'../dados/decisão_{i}.html' for i in range(0, 10)]"
   ]
  },
  {
   "cell_type": "code",
   "execution_count": 19,
   "metadata": {},
   "outputs": [],
   "source": [
    "# definir função para transformar os dados do sumário em tabela\n",
    "def tabelar_sumário(decisão, transpor=True):\n",
    "    sumário = pd.DataFrame(parser(decisão).parse_summary())\n",
    "    if transpor: \n",
    "        sumário = sumário.T\n",
    "    return sumário"
   ]
  },
  {
   "cell_type": "code",
   "execution_count": 20,
   "metadata": {},
   "outputs": [
    {
     "data": {
      "text/html": [
       "<div>\n",
       "<style scoped>\n",
       "    .dataframe tbody tr th:only-of-type {\n",
       "        vertical-align: middle;\n",
       "    }\n",
       "\n",
       "    .dataframe tbody tr th {\n",
       "        vertical-align: top;\n",
       "    }\n",
       "\n",
       "    .dataframe thead th {\n",
       "        text-align: right;\n",
       "    }\n",
       "</style>\n",
       "<table border=\"1\" class=\"dataframe\">\n",
       "  <thead>\n",
       "    <tr style=\"text-align: right;\">\n",
       "      <th></th>\n",
       "      <th>0</th>\n",
       "    </tr>\n",
       "  </thead>\n",
       "  <tbody>\n",
       "    <tr>\n",
       "      <th>case</th>\n",
       "      <td>Nº 0000299-72.2016.6.16.0127 - REGISTRO DE CAN...</td>\n",
       "    </tr>\n",
       "    <tr>\n",
       "      <th>town</th>\n",
       "      <td>NOVA OLÍMPIA-PRN.° Origem:</td>\n",
       "    </tr>\n",
       "    <tr>\n",
       "      <th>prot</th>\n",
       "      <td>1225872016 - 15/08/2016 18:13</td>\n",
       "    </tr>\n",
       "    <tr>\n",
       "      <th>claimants</th>\n",
       "      <td>COLIGAÇÃO GOVERNANDO COM O POVO (PMDB / PSC / ...</td>\n",
       "    </tr>\n",
       "    <tr>\n",
       "      <th>defendant</th>\n",
       "      <td>VERA ILSA BALDUINO DA SILVA, CARGO VEREADOR, N...</td>\n",
       "    </tr>\n",
       "    <tr>\n",
       "      <th>judge</th>\n",
       "      <td>FERNANDA BATISTA DORNELLES</td>\n",
       "    </tr>\n",
       "    <tr>\n",
       "      <th>subject</th>\n",
       "      <td>DIREITO ELEITORAL - Eleições - Candidatos - Re...</td>\n",
       "    </tr>\n",
       "    <tr>\n",
       "      <th>district</th>\n",
       "      <td>127ZE-127 ZONA ELEITORAL</td>\n",
       "    </tr>\n",
       "    <tr>\n",
       "      <th>stage</th>\n",
       "      <td>09/02/2017 12:21-Arquivado na seção</td>\n",
       "    </tr>\n",
       "  </tbody>\n",
       "</table>\n",
       "</div>"
      ],
      "text/plain": [
       "                                                           0\n",
       "case       Nº 0000299-72.2016.6.16.0127 - REGISTRO DE CAN...\n",
       "town                              NOVA OLÍMPIA-PRN.° Origem:\n",
       "prot                           1225872016 - 15/08/2016 18:13\n",
       "claimants  COLIGAÇÃO GOVERNANDO COM O POVO (PMDB / PSC / ...\n",
       "defendant  VERA ILSA BALDUINO DA SILVA, CARGO VEREADOR, N...\n",
       "judge                             FERNANDA BATISTA DORNELLES\n",
       "subject    DIREITO ELEITORAL - Eleições - Candidatos - Re...\n",
       "district                            127ZE-127 ZONA ELEITORAL\n",
       "stage                    09/02/2017 12:21-Arquivado na seção"
      ]
     },
     "execution_count": 20,
     "metadata": {},
     "output_type": "execute_result"
    }
   ],
   "source": [
    "# produzir tabela\n",
    "tabelar_sumário(decisões[1])"
   ]
  },
  {
   "cell_type": "code",
   "execution_count": 21,
   "metadata": {},
   "outputs": [
    {
     "data": {
      "text/html": [
       "<div>\n",
       "<style scoped>\n",
       "    .dataframe tbody tr th:only-of-type {\n",
       "        vertical-align: middle;\n",
       "    }\n",
       "\n",
       "    .dataframe tbody tr th {\n",
       "        vertical-align: top;\n",
       "    }\n",
       "\n",
       "    .dataframe thead th {\n",
       "        text-align: right;\n",
       "    }\n",
       "</style>\n",
       "<table border=\"1\" class=\"dataframe\">\n",
       "  <thead>\n",
       "    <tr style=\"text-align: right;\">\n",
       "      <th></th>\n",
       "      <th>case</th>\n",
       "      <th>town</th>\n",
       "      <th>prot</th>\n",
       "      <th>claimants</th>\n",
       "      <th>defendant</th>\n",
       "      <th>judge</th>\n",
       "      <th>subject</th>\n",
       "      <th>district</th>\n",
       "      <th>stage</th>\n",
       "    </tr>\n",
       "  </thead>\n",
       "  <tbody>\n",
       "    <tr>\n",
       "      <th>0</th>\n",
       "      <td>Nº 0000304-61.2016.6.16.0041 - REGISTRO DE CAN...</td>\n",
       "      <td>LONDRINA-PRN.° Origem:</td>\n",
       "      <td>1194392016 - 15/08/2016 17:09</td>\n",
       "      <td>COLIGAÇÃO LONDRINA PRA FRENTE (PP / PTB)</td>\n",
       "      <td>MAURICIO QUIMENTON COSTA, CARGO VEREADOR, Nº: ...</td>\n",
       "      <td>MATHEUS ORLANDI MENDES</td>\n",
       "      <td>DIREITO ELEITORAL - Eleições - Candidatos - Re...</td>\n",
       "      <td>041ZE-041 ZONA ELEITORAL</td>\n",
       "      <td>25/09/2016 15:56-Arquivado na seção</td>\n",
       "    </tr>\n",
       "    <tr>\n",
       "      <th>1</th>\n",
       "      <td>Nº 0000299-72.2016.6.16.0127 - REGISTRO DE CAN...</td>\n",
       "      <td>NOVA OLÍMPIA-PRN.° Origem:</td>\n",
       "      <td>1225872016 - 15/08/2016 18:13</td>\n",
       "      <td>COLIGAÇÃO GOVERNANDO COM O POVO (PMDB / PSC / ...</td>\n",
       "      <td>VERA ILSA BALDUINO DA SILVA, CARGO VEREADOR, N...</td>\n",
       "      <td>FERNANDA BATISTA DORNELLES</td>\n",
       "      <td>DIREITO ELEITORAL - Eleições - Candidatos - Re...</td>\n",
       "      <td>127ZE-127 ZONA ELEITORAL</td>\n",
       "      <td>09/02/2017 12:21-Arquivado na seção</td>\n",
       "    </tr>\n",
       "    <tr>\n",
       "      <th>2</th>\n",
       "      <td>Nº 0000050-36.2016.6.16.0123 - REGISTRO DE CAN...</td>\n",
       "      <td>SÃO JORGE DO PATROCÍNIO-PRN.° Origem:</td>\n",
       "      <td>1013362016 - 12/08/2016 18:24</td>\n",
       "      <td>COLIGAÇÃO PSD, PP, PTN (PSD / PP / PTN)</td>\n",
       "      <td>FERNANDO DANIEL SCHMITD, CARGO VEREADOR, Nº: 5...</td>\n",
       "      <td>GUILHERME ARANDA CASTRO DOS SANTOS</td>\n",
       "      <td>DIREITO ELEITORAL - Eleições - Candidatos - Re...</td>\n",
       "      <td>123ZE-123 ZONA ELEITORAL</td>\n",
       "      <td>23/11/2016 12:10-Arquivado na seção</td>\n",
       "    </tr>\n",
       "    <tr>\n",
       "      <th>3</th>\n",
       "      <td>Nº 0000161-14.2016.6.16.0028 - REGISTRO DE CAN...</td>\n",
       "      <td>APUCARANA-PRN.° Origem:</td>\n",
       "      <td>1134682016 - 15/08/2016 14:58</td>\n",
       "      <td>COLIGAÇÃO PTB-PMDB-PPS (PTB / PMDB / PPS), COL...</td>\n",
       "      <td>JUÍZO ELEITORAL DA 28ª ZONA, TRE-PR</td>\n",
       "      <td>RENATA BOLZAN JAURIS</td>\n",
       "      <td>DIREITO ELEITORAL - Eleições - Candidatos - Re...</td>\n",
       "      <td>028ZE-028 ZONA ELEITORAL</td>\n",
       "      <td>20/03/2017 16:41-Arquivado na seção</td>\n",
       "    </tr>\n",
       "    <tr>\n",
       "      <th>4</th>\n",
       "      <td>Nº 0000186-20.2016.6.16.0095 - REGISTRO DE CAN...</td>\n",
       "      <td>COLORADO-PRN.° Origem:</td>\n",
       "      <td>1065522016 - 15/08/2016 12:32</td>\n",
       "      <td>COLIGAÇÃO JUNTOS POR COLORADO (PPL / PT DO B /...</td>\n",
       "      <td>LEANDRO PIRES DA SILVA, CARGO VEREADOR, Nº: 54000</td>\n",
       "      <td>LUCIANA PAULA KULEVICZ</td>\n",
       "      <td>DIREITO ELEITORAL - Eleições - Candidatos - Re...</td>\n",
       "      <td>095ZE-095 ZONA ELEITORAL</td>\n",
       "      <td>07/03/2017 17:30-Arquivado na seção</td>\n",
       "    </tr>\n",
       "    <tr>\n",
       "      <th>5</th>\n",
       "      <td>Nº 0000280-70.2016.6.16.0061 - REGISTRO DE CAN...</td>\n",
       "      <td>ARAPONGAS-PRN.° Origem:</td>\n",
       "      <td>1182182016 - 15/08/2016 16:37</td>\n",
       "      <td>COLIGAÇÃO PP E SD (PP / SD)</td>\n",
       "      <td>JOSE MARIA DA SILVA, CARGO VEREADOR, Nº: 11611</td>\n",
       "      <td>RENATA MARIA FERNANDES SASSI FANTIN</td>\n",
       "      <td>DIREITO ELEITORAL - Eleições - Candidatos - Re...</td>\n",
       "      <td>061ZE-061 ZONA ELEITORAL</td>\n",
       "      <td>14/03/2017 17:44-Arquivado na seção</td>\n",
       "    </tr>\n",
       "    <tr>\n",
       "      <th>6</th>\n",
       "      <td>Nº 0000180-76.2016.6.16.0074 - REGISTRO DE CAN...</td>\n",
       "      <td>PEABIRU-PRN.° Origem:</td>\n",
       "      <td>1247862016 - 15/08/2016 18:54</td>\n",
       "      <td>COLIGAÇÃO PSB - PDT - PEN - PT DO B - PSC - PR...</td>\n",
       "      <td>JOSINEL PEZINI DOS SANTOS, CARGO VEREADOR, Nº:...</td>\n",
       "      <td>PAULO EDUARDO MARQUES PEQUITO</td>\n",
       "      <td>DIREITO ELEITORAL - Eleições - Candidatos - Re...</td>\n",
       "      <td>074ZE-074 ZONA ELEITORAL</td>\n",
       "      <td>19/05/2020 18:50-Certidão</td>\n",
       "    </tr>\n",
       "    <tr>\n",
       "      <th>7</th>\n",
       "      <td>Nº 0000259-85.2016.6.16.0161 - REGISTRO DE CAN...</td>\n",
       "      <td>GUARATUBA-PRN.° Origem:</td>\n",
       "      <td>1969862016 - 12/09/2016 17:54</td>\n",
       "      <td>COLIGAÇÃO GUARATUBA MAIS HUMANA (PMDB / PT)</td>\n",
       "      <td>MARIA NEUSA DE LIMA, CARGO VEREADOR, Nº: 13321</td>\n",
       "      <td>GIOVANNA DE SÁ RECHIA</td>\n",
       "      <td>DIREITO ELEITORAL - Eleições - Candidatos - Re...</td>\n",
       "      <td>161ZE-161 ZONA ELEITORAL</td>\n",
       "      <td>13/04/2017 16:35-Arquivado na seção</td>\n",
       "    </tr>\n",
       "    <tr>\n",
       "      <th>8</th>\n",
       "      <td>Nº 0000271-55.2016.6.16.0111 - REGISTRO DE CAN...</td>\n",
       "      <td>TELÊMACO BORBA-PRN.° Origem:</td>\n",
       "      <td>1211272016 - 15/08/2016 17:44</td>\n",
       "      <td>COLIGAÇÃO JUNTOS POR TELÊMACO BORBA (PMB / PSD...</td>\n",
       "      <td>VINICIUS RIBEIRO RAMOS, CARGO VEREADOR, Nº: 45000</td>\n",
       "      <td>MARCELO FURLANETTO DA FONSECA</td>\n",
       "      <td>DIREITO ELEITORAL - Eleições - Candidatos - Re...</td>\n",
       "      <td>111ZE-111 ZONA ELEITORAL</td>\n",
       "      <td>31/03/2017 15:39-Arquivado na seção</td>\n",
       "    </tr>\n",
       "    <tr>\n",
       "      <th>9</th>\n",
       "      <td>Nº 0000186-10.2016.6.16.0163 - REGISTRO DE CAN...</td>\n",
       "      <td>QUEDAS DO IGUAÇU-PRN.° Origem:</td>\n",
       "      <td>1151382016 - 15/08/2016 15:27</td>\n",
       "      <td>COLIGAÇÃO A FORÇA QUE VEM DO POVO (PMDB / PDT ...</td>\n",
       "      <td>PAULA TERESINHA REVERS, CARGO VEREADOR, Nº: 27555</td>\n",
       "      <td>PAULA CHEDID MAGALHÃES</td>\n",
       "      <td>DIREITO ELEITORAL - Eleições - Candidatos - Re...</td>\n",
       "      <td>163ZE-163 ZONA ELEITORAL</td>\n",
       "      <td>14/03/2017 16:46-Arquivado na seção</td>\n",
       "    </tr>\n",
       "  </tbody>\n",
       "</table>\n",
       "</div>"
      ],
      "text/plain": [
       "                                                case  \\\n",
       "0  Nº 0000304-61.2016.6.16.0041 - REGISTRO DE CAN...   \n",
       "1  Nº 0000299-72.2016.6.16.0127 - REGISTRO DE CAN...   \n",
       "2  Nº 0000050-36.2016.6.16.0123 - REGISTRO DE CAN...   \n",
       "3  Nº 0000161-14.2016.6.16.0028 - REGISTRO DE CAN...   \n",
       "4  Nº 0000186-20.2016.6.16.0095 - REGISTRO DE CAN...   \n",
       "5  Nº 0000280-70.2016.6.16.0061 - REGISTRO DE CAN...   \n",
       "6  Nº 0000180-76.2016.6.16.0074 - REGISTRO DE CAN...   \n",
       "7  Nº 0000259-85.2016.6.16.0161 - REGISTRO DE CAN...   \n",
       "8  Nº 0000271-55.2016.6.16.0111 - REGISTRO DE CAN...   \n",
       "9  Nº 0000186-10.2016.6.16.0163 - REGISTRO DE CAN...   \n",
       "\n",
       "                                    town                           prot  \\\n",
       "0                 LONDRINA-PRN.° Origem:  1194392016 - 15/08/2016 17:09   \n",
       "1             NOVA OLÍMPIA-PRN.° Origem:  1225872016 - 15/08/2016 18:13   \n",
       "2  SÃO JORGE DO PATROCÍNIO-PRN.° Origem:  1013362016 - 12/08/2016 18:24   \n",
       "3                APUCARANA-PRN.° Origem:  1134682016 - 15/08/2016 14:58   \n",
       "4                 COLORADO-PRN.° Origem:  1065522016 - 15/08/2016 12:32   \n",
       "5                ARAPONGAS-PRN.° Origem:  1182182016 - 15/08/2016 16:37   \n",
       "6                  PEABIRU-PRN.° Origem:  1247862016 - 15/08/2016 18:54   \n",
       "7                GUARATUBA-PRN.° Origem:  1969862016 - 12/09/2016 17:54   \n",
       "8           TELÊMACO BORBA-PRN.° Origem:  1211272016 - 15/08/2016 17:44   \n",
       "9         QUEDAS DO IGUAÇU-PRN.° Origem:  1151382016 - 15/08/2016 15:27   \n",
       "\n",
       "                                           claimants  \\\n",
       "0           COLIGAÇÃO LONDRINA PRA FRENTE (PP / PTB)   \n",
       "1  COLIGAÇÃO GOVERNANDO COM O POVO (PMDB / PSC / ...   \n",
       "2            COLIGAÇÃO PSD, PP, PTN (PSD / PP / PTN)   \n",
       "3  COLIGAÇÃO PTB-PMDB-PPS (PTB / PMDB / PPS), COL...   \n",
       "4  COLIGAÇÃO JUNTOS POR COLORADO (PPL / PT DO B /...   \n",
       "5                        COLIGAÇÃO PP E SD (PP / SD)   \n",
       "6  COLIGAÇÃO PSB - PDT - PEN - PT DO B - PSC - PR...   \n",
       "7        COLIGAÇÃO GUARATUBA MAIS HUMANA (PMDB / PT)   \n",
       "8  COLIGAÇÃO JUNTOS POR TELÊMACO BORBA (PMB / PSD...   \n",
       "9  COLIGAÇÃO A FORÇA QUE VEM DO POVO (PMDB / PDT ...   \n",
       "\n",
       "                                           defendant  \\\n",
       "0  MAURICIO QUIMENTON COSTA, CARGO VEREADOR, Nº: ...   \n",
       "1  VERA ILSA BALDUINO DA SILVA, CARGO VEREADOR, N...   \n",
       "2  FERNANDO DANIEL SCHMITD, CARGO VEREADOR, Nº: 5...   \n",
       "3                JUÍZO ELEITORAL DA 28ª ZONA, TRE-PR   \n",
       "4  LEANDRO PIRES DA SILVA, CARGO VEREADOR, Nº: 54000   \n",
       "5     JOSE MARIA DA SILVA, CARGO VEREADOR, Nº: 11611   \n",
       "6  JOSINEL PEZINI DOS SANTOS, CARGO VEREADOR, Nº:...   \n",
       "7     MARIA NEUSA DE LIMA, CARGO VEREADOR, Nº: 13321   \n",
       "8  VINICIUS RIBEIRO RAMOS, CARGO VEREADOR, Nº: 45000   \n",
       "9  PAULA TERESINHA REVERS, CARGO VEREADOR, Nº: 27555   \n",
       "\n",
       "                                 judge  \\\n",
       "0               MATHEUS ORLANDI MENDES   \n",
       "1           FERNANDA BATISTA DORNELLES   \n",
       "2   GUILHERME ARANDA CASTRO DOS SANTOS   \n",
       "3                 RENATA BOLZAN JAURIS   \n",
       "4               LUCIANA PAULA KULEVICZ   \n",
       "5  RENATA MARIA FERNANDES SASSI FANTIN   \n",
       "6        PAULO EDUARDO MARQUES PEQUITO   \n",
       "7                GIOVANNA DE SÁ RECHIA   \n",
       "8        MARCELO FURLANETTO DA FONSECA   \n",
       "9               PAULA CHEDID MAGALHÃES   \n",
       "\n",
       "                                             subject  \\\n",
       "0  DIREITO ELEITORAL - Eleições - Candidatos - Re...   \n",
       "1  DIREITO ELEITORAL - Eleições - Candidatos - Re...   \n",
       "2  DIREITO ELEITORAL - Eleições - Candidatos - Re...   \n",
       "3  DIREITO ELEITORAL - Eleições - Candidatos - Re...   \n",
       "4  DIREITO ELEITORAL - Eleições - Candidatos - Re...   \n",
       "5  DIREITO ELEITORAL - Eleições - Candidatos - Re...   \n",
       "6  DIREITO ELEITORAL - Eleições - Candidatos - Re...   \n",
       "7  DIREITO ELEITORAL - Eleições - Candidatos - Re...   \n",
       "8  DIREITO ELEITORAL - Eleições - Candidatos - Re...   \n",
       "9  DIREITO ELEITORAL - Eleições - Candidatos - Re...   \n",
       "\n",
       "                   district                                stage  \n",
       "0  041ZE-041 ZONA ELEITORAL  25/09/2016 15:56-Arquivado na seção  \n",
       "1  127ZE-127 ZONA ELEITORAL  09/02/2017 12:21-Arquivado na seção  \n",
       "2  123ZE-123 ZONA ELEITORAL  23/11/2016 12:10-Arquivado na seção  \n",
       "3  028ZE-028 ZONA ELEITORAL  20/03/2017 16:41-Arquivado na seção  \n",
       "4  095ZE-095 ZONA ELEITORAL  07/03/2017 17:30-Arquivado na seção  \n",
       "5  061ZE-061 ZONA ELEITORAL  14/03/2017 17:44-Arquivado na seção  \n",
       "6  074ZE-074 ZONA ELEITORAL            19/05/2020 18:50-Certidão  \n",
       "7  161ZE-161 ZONA ELEITORAL  13/04/2017 16:35-Arquivado na seção  \n",
       "8  111ZE-111 ZONA ELEITORAL  31/03/2017 15:39-Arquivado na seção  \n",
       "9  163ZE-163 ZONA ELEITORAL  14/03/2017 16:46-Arquivado na seção  "
      ]
     },
     "execution_count": 21,
     "metadata": {},
     "output_type": "execute_result"
    }
   ],
   "source": [
    "# criar banco de dados\n",
    "sumários = pd.concat([tabelar_sumário(decisão, False) for decisão in decisões], ignore_index=True)\n",
    "sumários"
   ]
  },
  {
   "cell_type": "code",
   "execution_count": 22,
   "metadata": {},
   "outputs": [
    {
     "data": {
      "text/plain": [
       "0    041ZE-041 ZONA ELEITORAL\n",
       "1    127ZE-127 ZONA ELEITORAL\n",
       "2    123ZE-123 ZONA ELEITORAL\n",
       "3    028ZE-028 ZONA ELEITORAL\n",
       "4    095ZE-095 ZONA ELEITORAL\n",
       "5    061ZE-061 ZONA ELEITORAL\n",
       "6    074ZE-074 ZONA ELEITORAL\n",
       "7    161ZE-161 ZONA ELEITORAL\n",
       "8    111ZE-111 ZONA ELEITORAL\n",
       "9    163ZE-163 ZONA ELEITORAL\n",
       "Name: district, dtype: object"
      ]
     },
     "execution_count": 22,
     "metadata": {},
     "output_type": "execute_result"
    }
   ],
   "source": [
    "# onde estão estes processos? nas seguintes zonas eleitorais\n",
    "sumários['district']"
   ]
  },
  {
   "cell_type": "markdown",
   "metadata": {},
   "source": [
    "## Parte 3: Processamento de Linguagem Natural (NLP)"
   ]
  },
  {
   "cell_type": "code",
   "execution_count": 1,
   "metadata": {},
   "outputs": [],
   "source": [
    "# importar pacotes\n",
    "import spacy\n",
    "from bs4 import BeautifulSoup\n",
    "\n",
    "# criar ferramentas de análise de texto\n",
    "nlp_en = spacy.load('en_core_web_sm')\n",
    "nlp_pt = spacy.load('pt_core_news_sm')"
   ]
  },
  {
   "cell_type": "markdown",
   "metadata": {},
   "source": [
    "## Exemplo Genérico"
   ]
  },
  {
   "cell_type": "code",
   "execution_count": 2,
   "metadata": {},
   "outputs": [],
   "source": [
    "# definir função que baixa uma reportagem de jornal\n",
    "def baixar_reportagem():\n",
    "    URL = 'https://www.nytimes.com/2020/05/12/well/family/coronavirus-children-covid-19.html'\n",
    "    r = requests.get(URL)\n",
    "    soup = BeautifulSoup(r.content)\n",
    "    text = soup.find('section', attrs={'name': 'articleBody'}).get_text()\n",
    "    return text"
   ]
  },
  {
   "cell_type": "code",
   "execution_count": 5,
   "metadata": {},
   "outputs": [
    {
     "data": {
      "text/plain": [
       "'As we learn more about children and Covid-19, new research is reshaping some of our thinking. It continues to be true that children, as a group, have been relatively spared, but there is evidence that some may become very sick, and we are beginning to learn more about who may be most at risk, and what parents need to watch for.This past week there were reports of children hospitalized in different locations, including New York City, with a multisystem inflammatory disease that has killed three children. In addition, new research continues to be published describing the ways that the virus can behave in children, which is not always how it behaves in adults.[Read more: The Centers for Disease Control and Prevention’s list of coronavirus symptoms in children]A clinical report published Tuesday in Frontiers in Pediatrics describes five children in China who were admitted to the hospital with nonrespiratory symptoms but who turned out to have Covid, including the characteristic lung abnormalities. Dr. Wenbin Li, chief pediatrician of Tongji Hospital in Wuhan, who was the first author of the study, said in an email, “In our report, four of the five patients had fever and cough during the course of the disease; four of the five cases had digestive tract symptoms as the first manifestation.”“The indisputable fact is that, during the outbreak of Covid-19, the pediatric emergency departments are having a huge reduction of visits,” Dr. Li wrote. Because parents are afraid of coming to the hospital, they may delay bringing sick children in, which can lead to serious complications, he said. And we’re seeing in the United States that they may also delay bringing well children in, which can lead to missed immunizations and vulnerability to other scary diseases.“The idea that children either don’t get Covid-19 or have really mild disease is an oversimplification,” said Dr. Adam Ratner, the director of pediatric infectious diseases at New York University School of Medicine and Hassenfeld Children’s Hospital at N.Y.U. Langone Health. It’s true — and comforting — that there have been fewer cases detected in children, and that the case fatality rate is much lower in children than in adults, especially older adults, he said, but “we have had some extremely sick children.”A study just published in the journal JAMA Pediatrics looked at 48 children in the United States who have required intensive care with Covid-19. Among other findings, 40 of them had significant medical issues, so-called comorbidities; half of these were categorized as “medically complex,” meaning they were dependent on technological support to begin with, as would be true of a child with a tracheostomy, for example. Other comorbidities included immunosuppression, usually connected to cancer treatment, obesity or diabetes.There have also been some cases of newborns becoming sick, and at least one reported stillbirth, and a research letter published at the end of April in JAMA reported the isolation of the virus from the placenta of a woman who suffered a second-trimester miscarriage.Dr. David Baud, the head of the obstetrics service at Lausanne University Hospital in Switzerland, who was the lead author of the letter, said that the most likely way for the virus to reach the placenta is through the bloodstream. He noted that in the outbreaks of SARS and MERS, which were also coronaviruses, infected mothers were more likely to have low birth weight babies.And although it feels as if the current pandemic has been going on for a long time, we are in fact not far enough in yet to see what the effect on the fetus might be of infection during the first trimester of pregnancy. But Dr. Baud was one of the doctors who described the establishment of an international registry for pregnancies affected by Covid-19 in an article published this month in the Lancet.Even when mothers test positive for Covid-19 at delivery, their infants have tended to be negative, Dr. Ratner said, as long as the mothers and babies are kept separate (or well protected by personal protective equipment) after the birth, suggesting that the virus is not being transmitted in utero or at delivery — which was also found to be the case in China.Dr. Ratner said he had taken care of a number of children with the virus, and “most of them have very mild disease.” But some “have required intensive care and ventilatory support, so there is a wide range, even if most of the cases are OK.”Some infants become critically ill, but in preschool and school-age children, we have been saying that Covid-19 tends to be very mild. Children with immunodeficiencies or children who have had chemotherapy are at higher risk for serious illness, but, Dr. Ratner said, “we have seen kids without prior medical problems at all who’ve needed admission, who’ve needed intensive care.” This is also the age group where the new multisystem disease is being noted, possibly sometimes as a post-infectious hyperinflammatory process.Many of the symptoms of this recently described syndrome resemble those of a rare childhood illness called Kawasaki disease. Dr. Jane Newburger, the director of the Kawasaki program at Boston Children’s Hospital, said, “We’re seeing a wave of a syndrome that can include shock or extreme inflammation.” Shock is what happens when the body’s organs don’t get sufficient blood supply, and some of these children have poor heart function.Kawasaki disease itself is a clinical diagnosis; there is no single lab test that can detect it, and the cause is not known. Dr. Newburger described it as “an acute illness of children that strikes generally children who were previously healthy — high fever for at least four days with red eyes, redness of lips, tongue, throat, a rash, swollen hands and feet, sometimes red palms and soles.” It’s treated with IVIG, intravenous immunoglobulin, a blood product prepared from the serum of many donors with the intent of preventing the rare but serious enlargement of the coronary arteries, which is the most dangerous complication.Dr. Newburger said that the Covid-19-related cases are a multisystem severe inflammatory syndrome modulated by the immune system, which many people think may appear a few weeks after the initial encounter with the coronavirus. The children come in with high fevers, with dysfunction in one or more body organs, and with lab tests suggesting inflammation.Dr. Moshe Arditi, the chief of pediatric infectious diseases and immunology at Cedars-Sinai Medical Center, has been working on Kawasaki disease for over 30 years. He said that some of the cases that have been reported in different cities — especially London and New York — may just represent Kawasaki disease in children who have also been exposed to Covid-19, without being able to say whether there is any causal link, while others involve children who are much sicker, with what he described as “a toxic shock kind of syndrome,” needing intensive care — which defines this new clinical entity.Dr. Philip Kahn, a pediatric rheumatologist at N.Y.U., said he was currently caring for several pediatric patients hospitalized with what looks like Kawasaki disease.“In Kawasaki disease, the vast majority of children do extremely well, with no long-term bad outcomes,” Dr. Kahn said. “For the vast majority, this is an acute one-time illness of childhood.” And he has seen children with Covid-19 and this Kawasaki-like syndrome who have looked sick but done well, he said, responding to treatment with immunoglobulin. He had just gotten off the phone, he said, with a patient who had been discharged. “The kid is laughing, the mom is laughing, a week and a half later,” he said. “Treated with one dose of immunoglobulin, laughing, looks like a million bucks — that’s the kid I live for.”And even with the cases of multisystem disease that emerged last week, “compared to adults, children are much less likely to be severely affected, and mortality is very very rare,” Dr. Newburger said. “Parents should still feel it would be very unusual for a child to be so seriously affected — but if their child suddenly becomes very febrile, seems unwell, and a parent’s sixth sense tells them their child is much sicker, seek medical attention, call the pediatrician, go to the hospital.”“The important takeaway is that this is still a new disease for us,” Dr. Ratner said. “We are still seeing things for the first time, even though over the last few weeks we’ve seen a lot of adults and children.”'"
      ]
     },
     "execution_count": 5,
     "metadata": {},
     "output_type": "execute_result"
    }
   ],
   "source": [
    "# baixar reportagem do NYTimes\n",
    "baixar_reportagem()"
   ]
  },
  {
   "cell_type": "code",
   "execution_count": 6,
   "metadata": {},
   "outputs": [],
   "source": [
    "# salvar texto\n",
    "texto = baixar_reportagem()"
   ]
  },
  {
   "cell_type": "code",
   "execution_count": 7,
   "metadata": {},
   "outputs": [],
   "source": [
    "# processar o texto\n",
    "doc_en = nlp_en(texto)"
   ]
  },
  {
   "cell_type": "code",
   "execution_count": 8,
   "metadata": {},
   "outputs": [
    {
     "data": {
      "text/plain": [
       "61"
      ]
     },
     "execution_count": 8,
     "metadata": {},
     "output_type": "execute_result"
    }
   ],
   "source": [
    "# contar o número de frases\n",
    "frases = list(doc_en.sents)\n",
    "len(frases)"
   ]
  },
  {
   "cell_type": "code",
   "execution_count": 14,
   "metadata": {},
   "outputs": [
    {
     "data": {
      "text/plain": [
       "David Baud, the head of the obstetrics service at Lausanne University Hospital in Switzerland, who was the lead author of the letter, said that the most likely way for the virus to reach the placenta is through the bloodstream."
      ]
     },
     "execution_count": 14,
     "metadata": {},
     "output_type": "execute_result"
    }
   ],
   "source": [
    "# mostrar uma frase qualquer\n",
    "frases[15]"
   ]
  },
  {
   "cell_type": "code",
   "execution_count": 10,
   "metadata": {},
   "outputs": [],
   "source": [
    "# definir função para investigar o conteúdo de uma frase\n",
    "def investigar_frase(frase):\n",
    "    resultado = [{'token': ent.text, 'tipo': ent.label_ , 'descrição': spacy.explain(ent.label_)} for ent in frase.ents]\n",
    "    return pd.DataFrame(resultado)"
   ]
  },
  {
   "cell_type": "code",
   "execution_count": 13,
   "metadata": {},
   "outputs": [
    {
     "data": {
      "text/html": [
       "<div>\n",
       "<style scoped>\n",
       "    .dataframe tbody tr th:only-of-type {\n",
       "        vertical-align: middle;\n",
       "    }\n",
       "\n",
       "    .dataframe tbody tr th {\n",
       "        vertical-align: top;\n",
       "    }\n",
       "\n",
       "    .dataframe thead th {\n",
       "        text-align: right;\n",
       "    }\n",
       "</style>\n",
       "<table border=\"1\" class=\"dataframe\">\n",
       "  <thead>\n",
       "    <tr style=\"text-align: right;\">\n",
       "      <th></th>\n",
       "      <th>token</th>\n",
       "      <th>tipo</th>\n",
       "      <th>descrição</th>\n",
       "    </tr>\n",
       "  </thead>\n",
       "  <tbody>\n",
       "    <tr>\n",
       "      <th>0</th>\n",
       "      <td>David Baud</td>\n",
       "      <td>PERSON</td>\n",
       "      <td>People, including fictional</td>\n",
       "    </tr>\n",
       "    <tr>\n",
       "      <th>1</th>\n",
       "      <td>Lausanne University Hospital</td>\n",
       "      <td>ORG</td>\n",
       "      <td>Companies, agencies, institutions, etc.</td>\n",
       "    </tr>\n",
       "    <tr>\n",
       "      <th>2</th>\n",
       "      <td>Switzerland</td>\n",
       "      <td>GPE</td>\n",
       "      <td>Countries, cities, states</td>\n",
       "    </tr>\n",
       "  </tbody>\n",
       "</table>\n",
       "</div>"
      ],
      "text/plain": [
       "                          token    tipo  \\\n",
       "0                    David Baud  PERSON   \n",
       "1  Lausanne University Hospital     ORG   \n",
       "2                   Switzerland     GPE   \n",
       "\n",
       "                                 descrição  \n",
       "0              People, including fictional  \n",
       "1  Companies, agencies, institutions, etc.  \n",
       "2                Countries, cities, states  "
      ]
     },
     "execution_count": 13,
     "metadata": {},
     "output_type": "execute_result"
    }
   ],
   "source": [
    "# testar reconhecimento do texto\n",
    "investigar_frase(frases[15])"
   ]
  },
  {
   "cell_type": "markdown",
   "metadata": {},
   "source": [
    "## Exemplo Real"
   ]
  },
  {
   "cell_type": "code",
   "execution_count": 81,
   "metadata": {},
   "outputs": [
    {
     "data": {
      "text/html": [
       "<div>\n",
       "<style scoped>\n",
       "    .dataframe tbody tr th:only-of-type {\n",
       "        vertical-align: middle;\n",
       "    }\n",
       "\n",
       "    .dataframe tbody tr th {\n",
       "        vertical-align: top;\n",
       "    }\n",
       "\n",
       "    .dataframe thead th {\n",
       "        text-align: right;\n",
       "    }\n",
       "</style>\n",
       "<table border=\"1\" class=\"dataframe\">\n",
       "  <thead>\n",
       "    <tr style=\"text-align: right;\">\n",
       "      <th></th>\n",
       "      <th>shead</th>\n",
       "      <th>sbody</th>\n",
       "    </tr>\n",
       "  </thead>\n",
       "  <tbody>\n",
       "    <tr>\n",
       "      <th>0</th>\n",
       "      <td>Despacho em 08/11/2016 - RCAND Nº 5036 DR GUIL...</td>\n",
       "      <td>Autos 50-36.2016.6.16.0123Vistos etc.Tendo em...</td>\n",
       "    </tr>\n",
       "    <tr>\n",
       "      <th>1</th>\n",
       "      <td>Sentença em 08/09/2016 - RCAND Nº 5036 DR GUIL...</td>\n",
       "      <td>SENTENÇAProcesso nº: 50-36.2016.6.16.0123 - R...</td>\n",
       "    </tr>\n",
       "  </tbody>\n",
       "</table>\n",
       "</div>"
      ],
      "text/plain": [
       "                                               shead  \\\n",
       "0  Despacho em 08/11/2016 - RCAND Nº 5036 DR GUIL...   \n",
       "1  Sentença em 08/09/2016 - RCAND Nº 5036 DR GUIL...   \n",
       "\n",
       "                                               sbody  \n",
       "0   Autos 50-36.2016.6.16.0123Vistos etc.Tendo em...  \n",
       "1   SENTENÇAProcesso nº: 50-36.2016.6.16.0123 - R...  "
      ]
     },
     "execution_count": 81,
     "metadata": {},
     "output_type": "execute_result"
    }
   ],
   "source": [
    "# abrir uma coletânea de decisões judiciais dentre todas\n",
    "decisão = pd.DataFrame(parser(decisões[2]).parse_details())\n",
    "decisão"
   ]
  },
  {
   "cell_type": "code",
   "execution_count": 82,
   "metadata": {},
   "outputs": [
    {
     "data": {
      "text/plain": [
       "' SENTENÇAProcesso nº: 50-36.2016.6.16.0123 - REGISTRO DE CANDIDATURA Requerente: FERNANDO DANIEL SCHMIDT1. RelatórioA COLIGAÇÃO PSD/PP/PTN ingressou com requerimento de pedido de candidatura para o cargo de vereador, em favor de FERNANDO DANIEL SCHMIDT.A ilustre representante do Ministério Público Eleitoral, no uso de suas atribuições legais, ajuizou ação de impugnação ao registro de candidatura (fls. 13/15) em desfavor do candidato acima, sustentando, em síntese, sua inelegibilidade, nos termos do art. 1º, inciso I, alínea \"e\" da Lei Complementar 64/90.Discorre a respeito da declaração de constitucionalidade da Lei Complementar 135/2010, chamada Lei da Ficha Limpa, sobre sua aplicabilidade aos fatos ocorridos antes da sua vigência.Afirma que a condenação criminal do candidato (Ação Penal 2003.0000028-9) à pena de 08 (oito) meses de detenção, como incurso no artigo 163, parágrafo único, inciso III (dano ao patrimônio público) e art. 329 (resistência), ambos do Código Penal, transitada em julgado em 27/08/2007, cuja pena foi extinta face o seu cumprimento por sentença datada de 03/12/2009. Ainda, que a pena de detenção foi cumprida em 25/01/2008, entretanto, como o réu não havia pago a multa, o Ministério Público requereu sua intimação para cumpri-la, porém, não consta como paga até a presente data.Requer a declaração de inelegibilidade do candidato e a negativa ao seu registro de candidatura.Devidamente notificado (fl. 17), apresentou contestação (fls. 20/24), aduzindo que o prazo de 08 (anos) da inelegibilidade tem como termo inicial a data do transito em julgado da sentença condenatória.Citou jurisprudência e ao final, pugnou pela improcedência da impugnação. É o relatório. Decido.2. FundamentaçãoDesnecessária a produção de outras provas além das já constantes dos autos - até porque, trata-se de matéria exclusivamente de direito - o que possibilita o julgamento do feito no estado em que se encontra, conforme prevê o art. 5º da Lei Complementar nº 64/90.De início, destaco que o candidato não constituiu advogado para ofertar a contestação. Embora a resistência de grandes doutrinadores e de alguns julgados, a jurisprudência majoritária tem reconhecido que não há necessidade de capacidade postulatória para o ajuizamento e contestação da AIRC, reconhecendo o c. TSE a necessidade de advogado apenas na fase recursal. (TSE - Agravo Regimental no Recurso Especial Eleitoral nº 33.378 - classe 32ª, Rel. Marcelo Ribeiro, 4.12.2008; TSE - Recurso Especial Eleitoral, nº 17.759, Min. Nélson Jobim, despacho, 14.05.01; TSE - Recurso Especial Eleitoral nº 16.694 - Rel. Min. Maurício Correa, 19.09.2000). Tal entendimento é decorrente da Súmula 115 do c. STJ e, com fundamento na possibilidade de que o indeferimento do registro de candidatura pode ocorrer até mesmo de ofício pelo juízo eleitoral, sendo certo, na linha desse pensamento, que em nome da isonomia o impugnado poderia ofertar contestação também sem a necessidade de estar representado por advogado.Quanto ao mérito, conforme certidão de fl.08, o candidato já foi condenado com sentença transitada em julgado pelos crimes de dano ao patrimônio público e resistência (autos 2003.0000028-9). A sentença condenatória transitou em julgado 27/08/2007 e a pena foi extinta em face o seu cumprimento por sentença datada de 03/12/2009. A referida certidão informa ainda que a pena foi efetivamente cumprida em 25/01/2008.Em um primeiro momento, a questão controvertida nos autos reside no marco inicial da contagem de prazo de 08 anos de inelegibilidade. O prazo conta-se do efetivo cumprimento da pena ou da decisão que declarou extinta sua punibilidade? E por mais que a colenda Corregedoria do TRE/PR estabeleça em seus Provimentos o marco inicial como sendo o da sentença que declarou extinta a punibilidade, tal entendimento, com a devida vênia, não pode prosperar.Conforme dispõe a parte final da alínea \"e\" do inciso I do art. 1º da Lei Complementar nº 64/90, \"o cumprimento da pena\" é o termo inicial para a contagem do prazo de inelegibilidade em decorrência de condenação criminal, e não a sentença de extinção de punibilidade, a qual possui natureza declaratória.Prevalecendo o entendimento de que o prazo de inelegibilidade deva contar da sentença declaratória de extinção, direitos fundamentais, como são direitos políticos, ficarão à mercê da morosidade da Justiça, uma vez que tais direitos só serão restituídos ao cidadão quando proferida tal decisão.No caso, a data a ser considerada como termo inicial é a data do efetivo cumprimento integral da pena. Destaco, pois a referida certidão de fl. 08, em sua parte final, informa que o candidato não efetuou o pagamento da multa imposta na condenação. Destaca ainda, que o Ministério Público requereu sua intimação para quitá-la, e não há nos autos, até a presente data, comprovante do pagamento.O Tribunal Superior Eleitoral já pacificou a questão, no julgamento do Processo Administrativo nº 936-31.2014.6.00.0000, como se verifica:PROCESSO ADMINISTRATIVO. CONSULTA. ART. 15, III, DA CONSTITUIÇÃO FEDERAL. CONDENAÇÃO CRIMINAL. EXTINÇÃO DA PUNIBILIDADE. MULTA NÃO SATISFEITA. SUSPENSÃO. DIREITOS POLÍTICOS. PERMANÊNCIA. INELEGIBILIDADE. ART. 1º, I, e, DA LC Nº 64/90. ANOTAÇÃO.1. A pendência de pagamento da pena de multa, ou sua cominação isolada nas sentenças criminais transitadas em julgado, tem o condão de manter/ensejar a suspensão dos direitos políticos prevista pelo art. 15, III, da Constituição Federal. (grifei)2. O registro inserido na Base de Perda e Suspensão de Direitos Políticos somente será desativado quando cessados os motivos da suspensão, o que deverá ser comprovado pelo interessado ou comunicado pelo órgão competente.3. Nos termos do art. l, 1, e, da LC nº 64/90, o prazo de inelegibilidade, hipótese que abrange somente os condenados pelos crimes previstos no mencionado dispositivo, projeta-se por oito anos após o cumprimento da pena imposta, seja ela privativa de liberdade, restritiva de direito ou multa. (grifei)4. Necessidade de reiteração às corregedorias regionais eleitorais da orientação adotada por esta Corte Superior em relação ao tema. (TSE, Processo Administrativo nº 936-31.2014.6.00.0000 - CLASSE 26 - Campo Grande - MS, Acórdão de 23/04/2015, Relator Min. LAURITA VAZ, Publicação: DJE - Diário de Justiça eletrônico, Data 20/05/2015, Pág. 154) Dessa forma, a pendência de pagamento da pena de multa nas sentenças criminais transitadas em julgado, tem o condão de manter a suspensão dos direitos políticos previstos pelo art. 15, III, da Constituição Federal.Assim, nos termos do art. 1º, I, e da LC nº 64/90, o prazo de inelegibilidade, hipótese que abrange o crime praticado pelo candidato (crime contra o patrimônio público), projeta-se por 08 (oito) anos após o cumprimento da pena imposta, seja ela privativa de liberdade, restritiva de direito e/ou multa.3. DispositivoAnte o exposto, JULGO PROCEDENTE o pedido formulado na ação de impugnação ao registro de candidatura, para o fim de DECLARAR a inelegibilidade de FERNANDO DANIEL SCHMIDT, nos termos do art. 1º, inciso I, alínea \"e\" , item 1 da LC 64/90, e INDEFIRO o pedido de registro de candidatura do mesmo, constante do processo 50-36.2016.6.16.0123.Publique-se. Registre-se. Intimem-se.Em face da ausência, ao seu devido tempo, da comunicação da condenação criminal transitada em julgada pela Vara Criminal de Altônia, proceda-se o cadastro e processamento da presente comunicação de suspensão de direitos políticos no Sistema Infodip e registre-se, oportunamente, no Sistema ELO o código ASE 337, motivo 7, com o complemento: PROC 2003.0000028-9 - JECRIM/ALTÔNIA/PR, na inscrição do eleitor FERNANDO DANIEL SCHMIDT.Por fim, na eventualidade de um recurso, e considerando que no processo eleitoral não há juízo de admissibilidade recursal no primeiro grau de jurisdição, inteire o candidato para a necessidade de constituir advogado. Altônia, 08 de setembro de 2016. GUILHERME ARANDA CASTRO DOS SANTOS Juiz Eleitoral'"
      ]
     },
     "execution_count": 82,
     "metadata": {},
     "output_type": "execute_result"
    }
   ],
   "source": [
    "# extrair texto da decisão\n",
    "texto = decisão.loc[1, 'sbody']\n",
    "texto"
   ]
  },
  {
   "cell_type": "code",
   "execution_count": 83,
   "metadata": {},
   "outputs": [],
   "source": [
    "doc_pt = nlp_pt(texto)"
   ]
  },
  {
   "cell_type": "code",
   "execution_count": 84,
   "metadata": {},
   "outputs": [],
   "source": [
    "frases = list(doc_pt.sents)"
   ]
  },
  {
   "cell_type": "code",
   "execution_count": 85,
   "metadata": {},
   "outputs": [
    {
     "data": {
      "text/html": [
       "<div>\n",
       "<style scoped>\n",
       "    .dataframe tbody tr th:only-of-type {\n",
       "        vertical-align: middle;\n",
       "    }\n",
       "\n",
       "    .dataframe tbody tr th {\n",
       "        vertical-align: top;\n",
       "    }\n",
       "\n",
       "    .dataframe thead th {\n",
       "        text-align: right;\n",
       "    }\n",
       "</style>\n",
       "<table border=\"1\" class=\"dataframe\">\n",
       "  <thead>\n",
       "    <tr style=\"text-align: right;\">\n",
       "      <th></th>\n",
       "      <th>token</th>\n",
       "      <th>tipo</th>\n",
       "      <th>descrição</th>\n",
       "    </tr>\n",
       "  </thead>\n",
       "  <tbody>\n",
       "    <tr>\n",
       "      <th>0</th>\n",
       "      <td>SENTENÇAProcesso</td>\n",
       "      <td>MISC</td>\n",
       "      <td>Miscellaneous entities, e.g. events, nationali...</td>\n",
       "    </tr>\n",
       "    <tr>\n",
       "      <th>1</th>\n",
       "      <td>REGISTRO DE CANDIDATURA</td>\n",
       "      <td>ORG</td>\n",
       "      <td>Companies, agencies, institutions, etc.</td>\n",
       "    </tr>\n",
       "    <tr>\n",
       "      <th>0</th>\n",
       "      <td>FERNANDO DANIEL</td>\n",
       "      <td>MISC</td>\n",
       "      <td>Miscellaneous entities, e.g. events, nationali...</td>\n",
       "    </tr>\n",
       "    <tr>\n",
       "      <th>0</th>\n",
       "      <td>COLIGAÇÃO PSD</td>\n",
       "      <td>MISC</td>\n",
       "      <td>Miscellaneous entities, e.g. events, nationali...</td>\n",
       "    </tr>\n",
       "    <tr>\n",
       "      <th>1</th>\n",
       "      <td>PP</td>\n",
       "      <td>ORG</td>\n",
       "      <td>Companies, agencies, institutions, etc.</td>\n",
       "    </tr>\n",
       "    <tr>\n",
       "      <th>...</th>\n",
       "      <td>...</td>\n",
       "      <td>...</td>\n",
       "      <td>...</td>\n",
       "    </tr>\n",
       "    <tr>\n",
       "      <th>2</th>\n",
       "      <td>ALTÔNIA</td>\n",
       "      <td>ORG</td>\n",
       "      <td>Companies, agencies, institutions, etc.</td>\n",
       "    </tr>\n",
       "    <tr>\n",
       "      <th>3</th>\n",
       "      <td>PR</td>\n",
       "      <td>ORG</td>\n",
       "      <td>Companies, agencies, institutions, etc.</td>\n",
       "    </tr>\n",
       "    <tr>\n",
       "      <th>0</th>\n",
       "      <td>FERNANDO DANIEL SCHMIDT.Por</td>\n",
       "      <td>MISC</td>\n",
       "      <td>Miscellaneous entities, e.g. events, nationali...</td>\n",
       "    </tr>\n",
       "    <tr>\n",
       "      <th>0</th>\n",
       "      <td>Altônia</td>\n",
       "      <td>LOC</td>\n",
       "      <td>Non-GPE locations, mountain ranges, bodies of ...</td>\n",
       "    </tr>\n",
       "    <tr>\n",
       "      <th>0</th>\n",
       "      <td>GUILHERME ARANDA</td>\n",
       "      <td>PER</td>\n",
       "      <td>Named person or family.</td>\n",
       "    </tr>\n",
       "  </tbody>\n",
       "</table>\n",
       "<p>94 rows × 3 columns</p>\n",
       "</div>"
      ],
      "text/plain": [
       "                          token  tipo  \\\n",
       "0              SENTENÇAProcesso  MISC   \n",
       "1       REGISTRO DE CANDIDATURA   ORG   \n",
       "0               FERNANDO DANIEL  MISC   \n",
       "0                 COLIGAÇÃO PSD  MISC   \n",
       "1                            PP   ORG   \n",
       "..                          ...   ...   \n",
       "2                       ALTÔNIA   ORG   \n",
       "3                            PR   ORG   \n",
       "0   FERNANDO DANIEL SCHMIDT.Por  MISC   \n",
       "0                       Altônia   LOC   \n",
       "0              GUILHERME ARANDA   PER   \n",
       "\n",
       "                                            descrição  \n",
       "0   Miscellaneous entities, e.g. events, nationali...  \n",
       "1             Companies, agencies, institutions, etc.  \n",
       "0   Miscellaneous entities, e.g. events, nationali...  \n",
       "0   Miscellaneous entities, e.g. events, nationali...  \n",
       "1             Companies, agencies, institutions, etc.  \n",
       "..                                                ...  \n",
       "2             Companies, agencies, institutions, etc.  \n",
       "3             Companies, agencies, institutions, etc.  \n",
       "0   Miscellaneous entities, e.g. events, nationali...  \n",
       "0   Non-GPE locations, mountain ranges, bodies of ...  \n",
       "0                             Named person or family.  \n",
       "\n",
       "[94 rows x 3 columns]"
      ]
     },
     "execution_count": 85,
     "metadata": {},
     "output_type": "execute_result"
    }
   ],
   "source": [
    "pd.concat([pd.DataFrame(investigar_frase(frase)) for frase in frases])"
   ]
  },
  {
   "cell_type": "code",
   "execution_count": null,
   "metadata": {},
   "outputs": [],
   "source": []
  }
 ],
 "metadata": {
  "kernelspec": {
   "display_name": "Python [conda env:root] *",
   "language": "python",
   "name": "conda-root-py"
  },
  "language_info": {
   "codemirror_mode": {
    "name": "ipython",
    "version": 3
   },
   "file_extension": ".py",
   "mimetype": "text/x-python",
   "name": "python",
   "nbconvert_exporter": "python",
   "pygments_lexer": "ipython3",
   "version": "3.7.7"
  }
 },
 "nbformat": 4,
 "nbformat_minor": 4
}
